{
 "cells": [
  {
   "cell_type": "code",
   "execution_count": 56,
   "metadata": {},
   "outputs": [
    {
     "name": "stdout",
     "output_type": "stream",
     "text": [
      "The autoreload extension is already loaded. To reload it, use:\n",
      "  %reload_ext autoreload\n"
     ]
    }
   ],
   "source": [
    "%load_ext autoreload\n",
    "%autoreload 2"
   ]
  },
  {
   "cell_type": "code",
   "execution_count": 135,
   "metadata": {},
   "outputs": [],
   "source": [
    "import pandas as pd\n",
    "import os\n",
    "import matplotlib.pyplot as plt\n",
    "import seaborn as sns\n",
    "import warnings\n",
    "from scipy.stats import mannwhitneyu\n",
    "warnings.filterwarnings(\"ignore\")\n",
    "from data_utils import convert_duration, get_category_mapping, LanguageDetector"
   ]
  },
  {
   "cell_type": "code",
   "execution_count": 58,
   "metadata": {},
   "outputs": [],
   "source": [
    "# load data\n",
    "df_page = pd.read_csv('query_results/pageInfo.csv')\n",
    "df_info = pd.read_parquet('query_results/video_info.parquet')\n",
    "df_details = pd.read_parquet('query_results/video_details.parquet')\n",
    "df_comments = pd.read_parquet('query_results/comment_info.parquet')"
   ]
  },
  {
   "cell_type": "code",
   "execution_count": 59,
   "metadata": {},
   "outputs": [],
   "source": [
    "FITSPO_Q = \"fitspo|fitspiration\"\n",
    "BODY_POSI_Q = \"bodypositive|bodypositivity\"\n",
    "\n",
    "# Define a dictionary to map keywords to colors\n",
    "keyword_color_mapping = {FITSPO_Q: sns.color_palette(\"pastel\")[0], BODY_POSI_Q: sns.color_palette(\"pastel\")[1]}\n",
    "# grayscale_palette = sns.color_palette(\"Greys_r\", n_colors=len(df_page['keyword'].unique()))"
   ]
  },
  {
   "cell_type": "markdown",
   "metadata": {},
   "source": [
    "## EDA on search results\n",
    "The dataset contains query results using YouTube API's ```search``` method. "
   ]
  },
  {
   "cell_type": "code",
   "execution_count": 5,
   "metadata": {},
   "outputs": [
    {
     "data": {
      "text/html": [
       "<div>\n",
       "<style scoped>\n",
       "    .dataframe tbody tr th:only-of-type {\n",
       "        vertical-align: middle;\n",
       "    }\n",
       "\n",
       "    .dataframe tbody tr th {\n",
       "        vertical-align: top;\n",
       "    }\n",
       "\n",
       "    .dataframe thead th {\n",
       "        text-align: right;\n",
       "    }\n",
       "</style>\n",
       "<table border=\"1\" class=\"dataframe\">\n",
       "  <thead>\n",
       "    <tr style=\"text-align: right;\">\n",
       "      <th></th>\n",
       "      <th>keyword</th>\n",
       "      <th>published_after</th>\n",
       "      <th>published_before</th>\n",
       "      <th>total_results</th>\n",
       "      <th>returned_results</th>\n",
       "    </tr>\n",
       "  </thead>\n",
       "  <tbody>\n",
       "    <tr>\n",
       "      <th>0</th>\n",
       "      <td>fitspo|fitspiration</td>\n",
       "      <td>2013-01-01T00:00:00Z</td>\n",
       "      <td>2013-06-30T23:59:59Z</td>\n",
       "      <td>2322</td>\n",
       "      <td>46</td>\n",
       "    </tr>\n",
       "    <tr>\n",
       "      <th>1</th>\n",
       "      <td>bodypositive|bodypositivity</td>\n",
       "      <td>2013-01-01T00:00:00Z</td>\n",
       "      <td>2013-06-30T23:59:59Z</td>\n",
       "      <td>9172</td>\n",
       "      <td>0</td>\n",
       "    </tr>\n",
       "    <tr>\n",
       "      <th>2</th>\n",
       "      <td>fitspo|fitspiration</td>\n",
       "      <td>2013-07-01T00:00:00Z</td>\n",
       "      <td>2013-12-31T23:59:59Z</td>\n",
       "      <td>1995</td>\n",
       "      <td>50</td>\n",
       "    </tr>\n",
       "    <tr>\n",
       "      <th>3</th>\n",
       "      <td>bodypositive|bodypositivity</td>\n",
       "      <td>2013-07-01T00:00:00Z</td>\n",
       "      <td>2013-12-31T23:59:59Z</td>\n",
       "      <td>8593</td>\n",
       "      <td>1</td>\n",
       "    </tr>\n",
       "    <tr>\n",
       "      <th>4</th>\n",
       "      <td>fitspo|fitspiration</td>\n",
       "      <td>2014-01-01T00:00:00Z</td>\n",
       "      <td>2014-06-30T23:59:59Z</td>\n",
       "      <td>4183</td>\n",
       "      <td>46</td>\n",
       "    </tr>\n",
       "  </tbody>\n",
       "</table>\n",
       "</div>"
      ],
      "text/plain": [
       "                       keyword       published_after      published_before  \\\n",
       "0          fitspo|fitspiration  2013-01-01T00:00:00Z  2013-06-30T23:59:59Z   \n",
       "1  bodypositive|bodypositivity  2013-01-01T00:00:00Z  2013-06-30T23:59:59Z   \n",
       "2          fitspo|fitspiration  2013-07-01T00:00:00Z  2013-12-31T23:59:59Z   \n",
       "3  bodypositive|bodypositivity  2013-07-01T00:00:00Z  2013-12-31T23:59:59Z   \n",
       "4          fitspo|fitspiration  2014-01-01T00:00:00Z  2014-06-30T23:59:59Z   \n",
       "\n",
       "   total_results  returned_results  \n",
       "0           2322                46  \n",
       "1           9172                 0  \n",
       "2           1995                50  \n",
       "3           8593                 1  \n",
       "4           4183                46  "
      ]
     },
     "execution_count": 5,
     "metadata": {},
     "output_type": "execute_result"
    }
   ],
   "source": [
    "# each row is a query made to search for videos using the keyword\n",
    "df_page.head()"
   ]
  },
  {
   "cell_type": "markdown",
   "metadata": {},
   "source": [
    "### Questions to answer: how many results (vidoes) are returned for each keyword? \n",
    "Note that for each keyword, 22 API calls were made, with max results per call being 50. The maximum number of results per keyword possible is 22*50=1100."
   ]
  },
  {
   "cell_type": "markdown",
   "metadata": {},
   "source": [
    "According to YouTube API [https://developers.google.com/youtube/v3/docs/search/list#pageInfo.totalResults]:\n",
    "- ```total_results```: The total number of results in the result set.Please note that the value is an approximation and may not represent an exact value. In addition, the maximum value is 1,000,000.\n",
    "- ```returned_results```: The number of results included in the API response."
   ]
  },
  {
   "cell_type": "code",
   "execution_count": 6,
   "metadata": {},
   "outputs": [],
   "source": [
    "fitspo_total = df_page[df_page['keyword'] == FITSPO_Q]['total_results'].sum()\n",
    "bodyposi_total = df_page[df_page['keyword'] == BODY_POSI_Q]['total_results'].sum()\n",
    "fitspo_returned = df_page[df_page['keyword'] == FITSPO_Q]['returned_results'].sum()\n",
    "bodyposi_returned = df_page[df_page['keyword'] == BODY_POSI_Q]['returned_results'].sum()"
   ]
  },
  {
   "cell_type": "code",
   "execution_count": 8,
   "metadata": {},
   "outputs": [
    {
     "data": {
      "text/html": [
       "<div>\n",
       "<style scoped>\n",
       "    .dataframe tbody tr th:only-of-type {\n",
       "        vertical-align: middle;\n",
       "    }\n",
       "\n",
       "    .dataframe tbody tr th {\n",
       "        vertical-align: top;\n",
       "    }\n",
       "\n",
       "    .dataframe thead th {\n",
       "        text-align: right;\n",
       "    }\n",
       "</style>\n",
       "<table border=\"1\" class=\"dataframe\">\n",
       "  <thead>\n",
       "    <tr style=\"text-align: right;\">\n",
       "      <th></th>\n",
       "      <th>keyword</th>\n",
       "      <th>total_results</th>\n",
       "      <th>returned_results</th>\n",
       "      <th>results_requested</th>\n",
       "      <th>returned_requested_ratio</th>\n",
       "    </tr>\n",
       "  </thead>\n",
       "  <tbody>\n",
       "    <tr>\n",
       "      <th>0</th>\n",
       "      <td>fitspo|fitspiration</td>\n",
       "      <td>564977</td>\n",
       "      <td>1045</td>\n",
       "      <td>1100</td>\n",
       "      <td>0.950000</td>\n",
       "    </tr>\n",
       "    <tr>\n",
       "      <th>1</th>\n",
       "      <td>bodypositive|bodypositivity</td>\n",
       "      <td>7382354</td>\n",
       "      <td>752</td>\n",
       "      <td>1100</td>\n",
       "      <td>0.683636</td>\n",
       "    </tr>\n",
       "  </tbody>\n",
       "</table>\n",
       "</div>"
      ],
      "text/plain": [
       "                       keyword  total_results  returned_results  \\\n",
       "0          fitspo|fitspiration         564977              1045   \n",
       "1  bodypositive|bodypositivity        7382354               752   \n",
       "\n",
       "   results_requested  returned_requested_ratio  \n",
       "0               1100                  0.950000  \n",
       "1               1100                  0.683636  "
      ]
     },
     "execution_count": 8,
     "metadata": {},
     "output_type": "execute_result"
    }
   ],
   "source": [
    "# construct a dataframe \n",
    "df = pd.DataFrame({'keyword': [FITSPO_Q, BODY_POSI_Q], \n",
    "                   'total_results': [fitspo_total, bodyposi_total],\n",
    "                   'returned_results': [fitspo_returned, bodyposi_returned],\n",
    "                   'results_requested': [1100, 1100],\n",
    "                   'returned_requested_ratio': [fitspo_returned/1100, bodyposi_returned/1100]})\n",
    "os.makedirs('results', exist_ok=True)\n",
    "df.to_csv('results/keyword_search.csv', index=False)\n",
    "df"
   ]
  },
  {
   "cell_type": "markdown",
   "metadata": {},
   "source": [
    "### Questions to answer: how many videos are returned for each keyword published in different years?"
   ]
  },
  {
   "cell_type": "code",
   "execution_count": 9,
   "metadata": {},
   "outputs": [],
   "source": [
    "# extract the year from the published_after column\n",
    "df_page['published_after'] = df_page['published_after'].apply(lambda x: x.split('-')[0])\n",
    "# combine the rows with the same keyword and published_after\n",
    "df_page = df_page.groupby(['keyword', 'published_after']).sum().reset_index()"
   ]
  },
  {
   "cell_type": "code",
   "execution_count": 26,
   "metadata": {},
   "outputs": [
    {
     "data": {
      "image/png": "[encoded data removed]",
      "text/plain": [
       "<Figure size 1000x500 with 1 Axes>"
      ]
     },
     "metadata": {},
     "output_type": "display_data"
    }
   ],
   "source": [
    "# bar plot of the number of videos returned for each keyword\n",
    "keyword_colors = [keyword_color_mapping[keyword] for keyword in df_page['keyword'].unique()]\n",
    "sns.set(style=\"whitegrid\")\n",
    "fig, ax = plt.subplots(figsize=(10, 5))\n",
    "sns.barplot(x='published_after', y='returned_results', hue='keyword', data=df_page, ax=ax, palette=keyword_colors, linewidth=2)\n",
    "# set x-axis labels to be the start of the period\n",
    "ax.set_xticklabels(df_page['published_after'])\n",
    "ax.legend(title='Keyword', loc='upper left')\n",
    "ax.set_title('Number of Returned Results for Each Year (Max. 100)')\n",
    "ax.set_xlabel('Video Publish Year')\n",
    "ax.set_ylabel('Number of Returned Results')\n",
    "plt.savefig('results/returned_results.png')"
   ]
  },
  {
   "cell_type": "markdown",
   "metadata": {},
   "source": [
    "## Merge video-related DataFrames\n",
    "The two DataFrames are queried with YouTube API's ```search``` and ```videos``` method respectively."
   ]
  },
  {
   "cell_type": "code",
   "execution_count": 133,
   "metadata": {},
   "outputs": [
    {
     "data": {
      "text/plain": [
       "Index(['video_id', 'title', 'description', 'published_at', 'channel_id',\n",
       "       'channel_title', 'thumbnail_url', 'keyword', 'published_after',\n",
       "       'published_before'],\n",
       "      dtype='object')"
      ]
     },
     "execution_count": 133,
     "metadata": {},
     "output_type": "execute_result"
    }
   ],
   "source": [
    "df_info.columns"
   ]
  },
  {
   "cell_type": "code",
   "execution_count": 134,
   "metadata": {},
   "outputs": [
    {
     "data": {
      "text/plain": [
       "Index(['description', 'tags', 'category_id', 'title', 'channel_title',\n",
       "       'view_count', 'like_count', 'comment_count', 'duration', 'definition',\n",
       "       'video_id'],\n",
       "      dtype='object')"
      ]
     },
     "execution_count": 134,
     "metadata": {},
     "output_type": "execute_result"
    }
   ],
   "source": [
    "df_details.columns"
   ]
  },
  {
   "cell_type": "code",
   "execution_count": 61,
   "metadata": {},
   "outputs": [
    {
     "data": {
      "text/plain": [
       "(1797, 20)"
      ]
     },
     "execution_count": 61,
     "metadata": {},
     "output_type": "execute_result"
    }
   ],
   "source": [
    "# merge data acording to video_id\n",
    "# keep columns from df_details because it has more complete data such as description\n",
    "df_video = pd.merge(df_info, df_details, on=['video_id'], how='inner')\n",
    "df_video.shape"
   ]
  },
  {
   "cell_type": "code",
   "execution_count": 62,
   "metadata": {},
   "outputs": [],
   "source": [
    "# find columns with name with suffix _x and drop them\n",
    "df_video.drop(df_video.filter(like='_x').columns, axis=1, inplace=True)"
   ]
  },
  {
   "cell_type": "code",
   "execution_count": 63,
   "metadata": {},
   "outputs": [],
   "source": [
    "df_video.rename(columns={\n",
    "    'description_y': 'description',\n",
    "    'title_y': 'title',\n",
    "    'channel_title_y': 'channel_title'\n",
    "}, inplace=True)"
   ]
  },
  {
   "cell_type": "code",
   "execution_count": 64,
   "metadata": {},
   "outputs": [
    {
     "data": {
      "text/html": [
       "<div>\n",
       "<style scoped>\n",
       "    .dataframe tbody tr th:only-of-type {\n",
       "        vertical-align: middle;\n",
       "    }\n",
       "\n",
       "    .dataframe tbody tr th {\n",
       "        vertical-align: top;\n",
       "    }\n",
       "\n",
       "    .dataframe thead th {\n",
       "        text-align: right;\n",
       "    }\n",
       "</style>\n",
       "<table border=\"1\" class=\"dataframe\">\n",
       "  <thead>\n",
       "    <tr style=\"text-align: right;\">\n",
       "      <th></th>\n",
       "      <th>video_id</th>\n",
       "      <th>published_at</th>\n",
       "      <th>channel_id</th>\n",
       "      <th>thumbnail_url</th>\n",
       "      <th>keyword</th>\n",
       "      <th>published_after</th>\n",
       "      <th>published_before</th>\n",
       "      <th>description</th>\n",
       "      <th>tags</th>\n",
       "      <th>category_id</th>\n",
       "      <th>title</th>\n",
       "      <th>channel_title</th>\n",
       "      <th>view_count</th>\n",
       "      <th>like_count</th>\n",
       "      <th>comment_count</th>\n",
       "      <th>duration</th>\n",
       "      <th>definition</th>\n",
       "    </tr>\n",
       "  </thead>\n",
       "  <tbody>\n",
       "    <tr>\n",
       "      <th>0</th>\n",
       "      <td>nhRzkGpdQdk</td>\n",
       "      <td>2013-03-12T17:09:50Z</td>\n",
       "      <td>UC3uDucFPe-E0I6CfxtHWZ6w</td>\n",
       "      <td>https://i.ytimg.com/vi/nhRzkGpdQdk/hqdefault.jpg</td>\n",
       "      <td>fitspo|fitspiration</td>\n",
       "      <td>2013-01-01T00:00:00Z</td>\n",
       "      <td>2013-06-30T23:59:59Z</td>\n",
       "      <td>Follow me on Facebook:\\nhttp://www.facebook.co...</td>\n",
       "      <td>[Bodybuilding Motivation, ShaQx, Female Fitnes...</td>\n",
       "      <td>17</td>\n",
       "      <td>Female Fitness Motivation - Success is a Journey</td>\n",
       "      <td>ShaQx</td>\n",
       "      <td>9762915</td>\n",
       "      <td>41921</td>\n",
       "      <td>1920</td>\n",
       "      <td>PT3M12S</td>\n",
       "      <td>hd</td>\n",
       "    </tr>\n",
       "    <tr>\n",
       "      <th>1</th>\n",
       "      <td>sIu61gS8Qag</td>\n",
       "      <td>2013-02-15T22:11:00Z</td>\n",
       "      <td>UC87WGiHFdgzRf6XRpbIcg4Q</td>\n",
       "      <td>https://i.ytimg.com/vi/sIu61gS8Qag/hqdefault.jpg</td>\n",
       "      <td>fitspo|fitspiration</td>\n",
       "      <td>2013-01-01T00:00:00Z</td>\n",
       "      <td>2013-06-30T23:59:59Z</td>\n",
       "      <td>This is a video I made for me to stay motivate...</td>\n",
       "      <td>[fit, fitblr, fitspiration video, abs, motivat...</td>\n",
       "      <td>22</td>\n",
       "      <td>Fitspiration Video</td>\n",
       "      <td>Samora Lewis</td>\n",
       "      <td>211373</td>\n",
       "      <td>935</td>\n",
       "      <td>50</td>\n",
       "      <td>PT4M10S</td>\n",
       "      <td>hd</td>\n",
       "    </tr>\n",
       "    <tr>\n",
       "      <th>2</th>\n",
       "      <td>Y4UyIC36VqQ</td>\n",
       "      <td>2013-02-11T03:44:28Z</td>\n",
       "      <td>UC9aRTMF4m6aBzkyhchwsWHQ</td>\n",
       "      <td>https://i.ytimg.com/vi/Y4UyIC36VqQ/hqdefault.jpg</td>\n",
       "      <td>fitspo|fitspiration</td>\n",
       "      <td>2013-01-01T00:00:00Z</td>\n",
       "      <td>2013-06-30T23:59:59Z</td>\n",
       "      <td>Find us at http://alluring-beauties.tumblr.com...</td>\n",
       "      <td>[girls, weightloss, fitspo, thinsp, skinny, sl...</td>\n",
       "      <td>22</td>\n",
       "      <td>Real Girl Weight loss, Before and After. Fitspo</td>\n",
       "      <td>AlluringBeautiesPage</td>\n",
       "      <td>108440</td>\n",
       "      <td>263</td>\n",
       "      <td>35</td>\n",
       "      <td>PT1M53S</td>\n",
       "      <td>hd</td>\n",
       "    </tr>\n",
       "    <tr>\n",
       "      <th>3</th>\n",
       "      <td>HQtyF3YmYpw</td>\n",
       "      <td>2013-05-07T03:33:06Z</td>\n",
       "      <td>UCLIeO7AnzCpod8GiZsxyx5w</td>\n",
       "      <td>https://i.ytimg.com/vi/HQtyF3YmYpw/hqdefault.jpg</td>\n",
       "      <td>fitspo|fitspiration</td>\n",
       "      <td>2013-01-01T00:00:00Z</td>\n",
       "      <td>2013-06-30T23:59:59Z</td>\n",
       "      <td>just some weight lose/toning inspiration for y...</td>\n",
       "      <td>[thinspo, curves, curvy, sexy, curvespo, lose ...</td>\n",
       "      <td>26</td>\n",
       "      <td>Fitspo for girls with curves 2013 (curvespo)</td>\n",
       "      <td>LovesIt50</td>\n",
       "      <td>63819</td>\n",
       "      <td>83</td>\n",
       "      <td>3</td>\n",
       "      <td>PT4M13S</td>\n",
       "      <td>sd</td>\n",
       "    </tr>\n",
       "    <tr>\n",
       "      <th>4</th>\n",
       "      <td>XXrvhTVlm0s</td>\n",
       "      <td>2013-03-16T18:17:29Z</td>\n",
       "      <td>UCgsNAoSMqikDqYOUXyasaLg</td>\n",
       "      <td>https://i.ytimg.com/vi/XXrvhTVlm0s/hqdefault.jpg</td>\n",
       "      <td>fitspo|fitspiration</td>\n",
       "      <td>2013-01-01T00:00:00Z</td>\n",
       "      <td>2013-06-30T23:59:59Z</td>\n",
       "      <td>hope you like this Fitspo Video :D \\nwant to l...</td>\n",
       "      <td>[fitspiration, fitspo, fitness, thin, thinspir...</td>\n",
       "      <td>22</td>\n",
       "      <td>FITSPIRATION - Fitnessmodel</td>\n",
       "      <td>fitandthin</td>\n",
       "      <td>30885</td>\n",
       "      <td>130</td>\n",
       "      <td>6</td>\n",
       "      <td>PT2M9S</td>\n",
       "      <td>sd</td>\n",
       "    </tr>\n",
       "  </tbody>\n",
       "</table>\n",
       "</div>"
      ],
      "text/plain": [
       "      video_id          published_at                channel_id  \\\n",
       "0  nhRzkGpdQdk  2013-03-12T17:09:50Z  UC3uDucFPe-E0I6CfxtHWZ6w   \n",
       "1  sIu61gS8Qag  2013-02-15T22:11:00Z  UC87WGiHFdgzRf6XRpbIcg4Q   \n",
       "2  Y4UyIC36VqQ  2013-02-11T03:44:28Z  UC9aRTMF4m6aBzkyhchwsWHQ   \n",
       "3  HQtyF3YmYpw  2013-05-07T03:33:06Z  UCLIeO7AnzCpod8GiZsxyx5w   \n",
       "4  XXrvhTVlm0s  2013-03-16T18:17:29Z  UCgsNAoSMqikDqYOUXyasaLg   \n",
       "\n",
       "                                      thumbnail_url              keyword  \\\n",
       "0  https://i.ytimg.com/vi/nhRzkGpdQdk/hqdefault.jpg  fitspo|fitspiration   \n",
       "1  https://i.ytimg.com/vi/sIu61gS8Qag/hqdefault.jpg  fitspo|fitspiration   \n",
       "2  https://i.ytimg.com/vi/Y4UyIC36VqQ/hqdefault.jpg  fitspo|fitspiration   \n",
       "3  https://i.ytimg.com/vi/HQtyF3YmYpw/hqdefault.jpg  fitspo|fitspiration   \n",
       "4  https://i.ytimg.com/vi/XXrvhTVlm0s/hqdefault.jpg  fitspo|fitspiration   \n",
       "\n",
       "        published_after      published_before  \\\n",
       "0  2013-01-01T00:00:00Z  2013-06-30T23:59:59Z   \n",
       "1  2013-01-01T00:00:00Z  2013-06-30T23:59:59Z   \n",
       "2  2013-01-01T00:00:00Z  2013-06-30T23:59:59Z   \n",
       "3  2013-01-01T00:00:00Z  2013-06-30T23:59:59Z   \n",
       "4  2013-01-01T00:00:00Z  2013-06-30T23:59:59Z   \n",
       "\n",
       "                                         description  \\\n",
       "0  Follow me on Facebook:\\nhttp://www.facebook.co...   \n",
       "1  This is a video I made for me to stay motivate...   \n",
       "2  Find us at http://alluring-beauties.tumblr.com...   \n",
       "3  just some weight lose/toning inspiration for y...   \n",
       "4  hope you like this Fitspo Video :D \\nwant to l...   \n",
       "\n",
       "                                                tags category_id  \\\n",
       "0  [Bodybuilding Motivation, ShaQx, Female Fitnes...          17   \n",
       "1  [fit, fitblr, fitspiration video, abs, motivat...          22   \n",
       "2  [girls, weightloss, fitspo, thinsp, skinny, sl...          22   \n",
       "3  [thinspo, curves, curvy, sexy, curvespo, lose ...          26   \n",
       "4  [fitspiration, fitspo, fitness, thin, thinspir...          22   \n",
       "\n",
       "                                              title         channel_title  \\\n",
       "0  Female Fitness Motivation - Success is a Journey                 ShaQx   \n",
       "1                                Fitspiration Video          Samora Lewis   \n",
       "2   Real Girl Weight loss, Before and After. Fitspo  AlluringBeautiesPage   \n",
       "3      Fitspo for girls with curves 2013 (curvespo)             LovesIt50   \n",
       "4                       FITSPIRATION - Fitnessmodel            fitandthin   \n",
       "\n",
       "  view_count like_count comment_count duration definition  \n",
       "0    9762915      41921          1920  PT3M12S         hd  \n",
       "1     211373        935            50  PT4M10S         hd  \n",
       "2     108440        263            35  PT1M53S         hd  \n",
       "3      63819         83             3  PT4M13S         sd  \n",
       "4      30885        130             6   PT2M9S         sd  "
      ]
     },
     "execution_count": 64,
     "metadata": {},
     "output_type": "execute_result"
    }
   ],
   "source": [
    "df_video.head()"
   ]
  },
  {
   "cell_type": "code",
   "execution_count": 65,
   "metadata": {},
   "outputs": [],
   "source": [
    "os.makedirs('preprocessed_data', exist_ok=True)\n",
    "df_video.to_parquet('preprocessed_data/video_info_details_raw.parquet')"
   ]
  },
  {
   "cell_type": "markdown",
   "metadata": {},
   "source": [
    "## EDA on video-related data"
   ]
  },
  {
   "cell_type": "code",
   "execution_count": 66,
   "metadata": {},
   "outputs": [
    {
     "name": "stdout",
     "output_type": "stream",
     "text": [
      "1797 videos were collected.\n"
     ]
    }
   ],
   "source": [
    "print(f\"{df_video.shape[0]} videos were collected.\")"
   ]
  },
  {
   "cell_type": "markdown",
   "metadata": {},
   "source": [
    "### avg. view count, like count, comment count for each keyword published in different years"
   ]
  },
  {
   "cell_type": "code",
   "execution_count": 67,
   "metadata": {},
   "outputs": [],
   "source": [
    "# avg. view count, like count, comment count for each keyword published in different years\n",
    "df_video['publish_year'] = df_video['published_at'].apply(lambda x: x.split('-')[0])\n",
    "\n",
    "# Convert relevant columns to numeric\n",
    "df_video['view_count'] = pd.to_numeric(df_video['view_count'], errors='coerce')\n",
    "df_video['like_count'] = pd.to_numeric(df_video['like_count'], errors='coerce')\n",
    "df_video['comment_count'] = pd.to_numeric(df_video['comment_count'], errors='coerce')\n",
    "\n",
    "# Calculate average values\n",
    "df_avg = df_video.groupby(['keyword','publish_year'])[['view_count', 'like_count', 'comment_count']].mean().reset_index()"
   ]
  },
  {
   "cell_type": "code",
   "execution_count": 136,
   "metadata": {},
   "outputs": [
    {
     "data": {
      "text/html": [
       "<div>\n",
       "<style scoped>\n",
       "    .dataframe tbody tr th:only-of-type {\n",
       "        vertical-align: middle;\n",
       "    }\n",
       "\n",
       "    .dataframe tbody tr th {\n",
       "        vertical-align: top;\n",
       "    }\n",
       "\n",
       "    .dataframe thead th {\n",
       "        text-align: right;\n",
       "    }\n",
       "</style>\n",
       "<table border=\"1\" class=\"dataframe\">\n",
       "  <thead>\n",
       "    <tr style=\"text-align: right;\">\n",
       "      <th></th>\n",
       "      <th>keyword</th>\n",
       "      <th>publish_year</th>\n",
       "      <th>view_count</th>\n",
       "      <th>like_count</th>\n",
       "      <th>comment_count</th>\n",
       "    </tr>\n",
       "  </thead>\n",
       "  <tbody>\n",
       "    <tr>\n",
       "      <th>0</th>\n",
       "      <td>bodypositive|bodypositivity</td>\n",
       "      <td>2013</td>\n",
       "      <td>46.000000</td>\n",
       "      <td>0.000000</td>\n",
       "      <td>0.000000</td>\n",
       "    </tr>\n",
       "    <tr>\n",
       "      <th>1</th>\n",
       "      <td>bodypositive|bodypositivity</td>\n",
       "      <td>2014</td>\n",
       "      <td>5436.600000</td>\n",
       "      <td>170.000000</td>\n",
       "      <td>50.600000</td>\n",
       "    </tr>\n",
       "    <tr>\n",
       "      <th>2</th>\n",
       "      <td>bodypositive|bodypositivity</td>\n",
       "      <td>2015</td>\n",
       "      <td>22898.625000</td>\n",
       "      <td>949.875000</td>\n",
       "      <td>68.482759</td>\n",
       "    </tr>\n",
       "    <tr>\n",
       "      <th>3</th>\n",
       "      <td>bodypositive|bodypositivity</td>\n",
       "      <td>2016</td>\n",
       "      <td>20958.000000</td>\n",
       "      <td>542.395833</td>\n",
       "      <td>99.687500</td>\n",
       "    </tr>\n",
       "    <tr>\n",
       "      <th>4</th>\n",
       "      <td>bodypositive|bodypositivity</td>\n",
       "      <td>2017</td>\n",
       "      <td>9850.233333</td>\n",
       "      <td>184.325843</td>\n",
       "      <td>45.265823</td>\n",
       "    </tr>\n",
       "  </tbody>\n",
       "</table>\n",
       "</div>"
      ],
      "text/plain": [
       "                       keyword publish_year    view_count  like_count  \\\n",
       "0  bodypositive|bodypositivity         2013     46.000000    0.000000   \n",
       "1  bodypositive|bodypositivity         2014   5436.600000  170.000000   \n",
       "2  bodypositive|bodypositivity         2015  22898.625000  949.875000   \n",
       "3  bodypositive|bodypositivity         2016  20958.000000  542.395833   \n",
       "4  bodypositive|bodypositivity         2017   9850.233333  184.325843   \n",
       "\n",
       "   comment_count  \n",
       "0       0.000000  \n",
       "1      50.600000  \n",
       "2      68.482759  \n",
       "3      99.687500  \n",
       "4      45.265823  "
      ]
     },
     "execution_count": 136,
     "metadata": {},
     "output_type": "execute_result"
    }
   ],
   "source": [
    "df_avg.head()"
   ]
  },
  {
   "cell_type": "code",
   "execution_count": 137,
   "metadata": {},
   "outputs": [
    {
     "name": "stdout",
     "output_type": "stream",
     "text": [
      "View Count: p-value = 0.5545\n",
      "Like Count: p-value = 0.8438\n",
      "Comment Count: p-value = 0.1679\n"
     ]
    }
   ],
   "source": [
    "# significance test for the average view count, like count, comment count for each keyword published across years\n",
    "statistic, p_value = mannwhitneyu(df_avg[df_avg['keyword'] == FITSPO_Q]['view_count'], df_avg[df_avg['keyword'] == BODY_POSI_Q]['view_count'])\n",
    "print(f\"View Count: p-value = {p_value:.4f}\")\n",
    "\n",
    "statistic, p_value = mannwhitneyu(df_avg[df_avg['keyword'] == FITSPO_Q]['like_count'], df_avg[df_avg['keyword'] == BODY_POSI_Q]['like_count'])\n",
    "print(f\"Like Count: p-value = {p_value:.4f}\")\n",
    "\n",
    "statistic, p_value = mannwhitneyu(df_avg[df_avg['keyword'] == FITSPO_Q]['comment_count'], df_avg[df_avg['keyword'] == BODY_POSI_Q]['comment_count'])\n",
    "print(f\"Comment Count: p-value = {p_value:.4f}\")"
   ]
  },
  {
   "cell_type": "code",
   "execution_count": 27,
   "metadata": {},
   "outputs": [
    {
     "data": {
      "image/png": "[encoded data removed]",
      "text/plain": [
       "<Figure size 1000x500 with 1 Axes>"
      ]
     },
     "metadata": {},
     "output_type": "display_data"
    }
   ],
   "source": [
    "# bar plot of the number of videos returned for each keyword\n",
    "keyword_colors = [keyword_color_mapping[keyword] for keyword in df_avg['keyword'].unique()]\n",
    "sns.set(style=\"whitegrid\")\n",
    "fig, ax = plt.subplots(figsize=(10, 5))\n",
    "sns.barplot(x='publish_year', y='view_count', hue='keyword', data=df_avg, ax=ax, palette=keyword_colors, linewidth=2)\n",
    "# Set log scale for y-axis\n",
    "ax.set_yscale('log')\n",
    "ax.legend(title='Keyword', loc='upper left')\n",
    "ax.set_xticklabels(df_avg['publish_year'])\n",
    "ax.set_title('Average View Count of Videos Published in Each Year')\n",
    "ax.set_xlabel('Video Publish Year')\n",
    "ax.set_ylabel('Average View Count (Log Scale)')\n",
    "plt.savefig('results/avg_view_count.png')"
   ]
  },
  {
   "cell_type": "code",
   "execution_count": 28,
   "metadata": {},
   "outputs": [
    {
     "data": {
      "image/png": "[encoded data removed]",
      "text/plain": [
       "<Figure size 1000x500 with 1 Axes>"
      ]
     },
     "metadata": {},
     "output_type": "display_data"
    }
   ],
   "source": [
    "# bar plot of the number of videos returned for each keyword\n",
    "keyword_colors = [keyword_color_mapping[keyword] for keyword in df_avg['keyword'].unique()]\n",
    "sns.set(style=\"whitegrid\")\n",
    "fig, ax = plt.subplots(figsize=(10, 5))\n",
    "sns.barplot(x='publish_year', y='comment_count', hue='keyword', data=df_avg, ax=ax, palette=keyword_colors, linewidth=2)\n",
    "# Set log scale for y-axis\n",
    "ax.set_yscale('log')\n",
    "ax.legend(title='Keyword', loc='upper left')\n",
    "ax.set_xticklabels(df_avg['publish_year'])\n",
    "ax.set_title('Average Comment Count of Videos Published in Each Year')\n",
    "ax.set_xlabel('Video Publish Year')\n",
    "ax.set_ylabel('Average Comment Count (Log Scale)')\n",
    "plt.savefig('results/avg_comment_count.png')"
   ]
  },
  {
   "cell_type": "code",
   "execution_count": 156,
   "metadata": {},
   "outputs": [
    {
     "name": "stdout",
     "output_type": "stream",
     "text": [
      "For Year 2013: p-value = 0.4704\n",
      "For Year 2014: p-value = 0.2800\n",
      "For Year 2015: p-value = 0.0055\n",
      "For Year 2016: p-value = 0.0013\n",
      "For Year 2017: p-value = 0.3912\n",
      "For Year 2018: p-value = 0.0000\n",
      "For Year 2019: p-value = 0.0000\n",
      "For Year 2020: p-value = 0.0034\n",
      "For Year 2021: p-value = 0.7666\n",
      "For Year 2022: p-value = 0.0000\n",
      "For Year 2023: p-value = 0.0000\n"
     ]
    }
   ],
   "source": [
    "# significance test for the view count for each keyword published across years\n",
    "for year in df_video['publish_year'].unique():\n",
    "    fitspo_view_count = df_video[(df_video['keyword'] == FITSPO_Q) & (df_video['publish_year'] == str(year))]['view_count'].dropna()\n",
    "    bopo_view_count = df_video[(df_video['keyword'] == BODY_POSI_Q) & (df_video['publish_year'] == str(year))]['view_count'].dropna()\n",
    "\n",
    "    if len(fitspo_view_count) > 0 and len(bopo_view_count) > 0:\n",
    "        statistic, p_value = mannwhitneyu(fitspo_view_count.values, bopo_view_count.values)\n",
    "        print(f\"For Year {year}: p-value = {p_value:.4f}\")\n",
    "    else:\n",
    "        print(f\"For Year {year}: Insufficient data for comparison\")\n"
   ]
  },
  {
   "cell_type": "code",
   "execution_count": 155,
   "metadata": {},
   "outputs": [
    {
     "name": "stdout",
     "output_type": "stream",
     "text": [
      "For Year 2013: p-value = 0.4399\n",
      "For Year 2014: p-value = 0.6313\n",
      "For Year 2015: p-value = 0.0152\n",
      "For Year 2016: p-value = 0.1690\n",
      "For Year 2017: p-value = 0.1206\n",
      "For Year 2018: p-value = 0.2538\n",
      "For Year 2019: p-value = 0.0947\n",
      "For Year 2020: p-value = 0.4971\n",
      "For Year 2021: p-value = 0.4811\n",
      "For Year 2022: p-value = 0.0000\n",
      "For Year 2023: p-value = 0.0000\n"
     ]
    }
   ],
   "source": [
    "# significance test for the comment count for each keyword published across years\n",
    "for year in df_video['publish_year'].unique():\n",
    "    fitspo_comment_count = df_video[(df_video['keyword'] == FITSPO_Q) & (df_video['publish_year'] == str(year))]['comment_count'].dropna()\n",
    "    bopo_comment_count = df_video[(df_video['keyword'] == BODY_POSI_Q) & (df_video['publish_year'] == str(year))]['comment_count'].dropna()\n",
    "\n",
    "    if len(fitspo_comment_count) > 0 and len(bopo_comment_count) > 0:\n",
    "        statistic, p_value = mannwhitneyu(fitspo_comment_count.values, bopo_comment_count.values)\n",
    "        print(f\"For Year {year}: p-value = {p_value:.4f}\")\n",
    "    else:\n",
    "        print(f\"For Year {year}: Insufficient data for comparison\")\n"
   ]
  },
  {
   "cell_type": "markdown",
   "metadata": {},
   "source": [
    "### View count, like count, comment count distribution among videos"
   ]
  },
  {
   "cell_type": "code",
   "execution_count": 195,
   "metadata": {},
   "outputs": [
    {
     "data": {
      "text/plain": [
       "(200, 18)"
      ]
     },
     "execution_count": 195,
     "metadata": {},
     "output_type": "execute_result"
    }
   ],
   "source": [
    "year = 2022\n",
    "\n",
    "# filter the data for the year\n",
    "df_video_year = df_video[df_video['publish_year'] == str(year)]\n",
    "df_video_year.shape"
   ]
  },
  {
   "cell_type": "markdown",
   "metadata": {},
   "source": [
    "Choose the year 2022 for example because it has full returned results (50 per half year) for both keywords."
   ]
  },
  {
   "cell_type": "code",
   "execution_count": 179,
   "metadata": {},
   "outputs": [
    {
     "data": {
      "image/png": "[encoded data removed]",
      "text/plain": [
       "<Figure size 1000x500 with 1 Axes>"
      ]
     },
     "metadata": {},
     "output_type": "display_data"
    }
   ],
   "source": [
    "keyword_colors = [keyword_color_mapping[keyword] for keyword in df_video_year['keyword'].unique()]\n",
    "sns.set(style=\"whitegrid\")\n",
    "fig, ax = plt.subplots(figsize=(10, 5))\n",
    "sns.boxplot(data=df_video_year, x='keyword', y='view_count', ax=ax, palette=keyword_colors)\n",
    "ax.set_yscale('log')\n",
    "ax.set_title(f'Distribution of View Count for Each Keyword in {year}')\n",
    "ax.set_xlabel('Keyword')\n",
    "ax.set_ylabel('Number of Views (Log Scale)')\n",
    "\n",
    "plt.savefig(f'results/boxplot_view_count_{year}.png')\n",
    "plt.show();"
   ]
  },
  {
   "cell_type": "code",
   "execution_count": 180,
   "metadata": {},
   "outputs": [
    {
     "data": {
      "image/png": "[encoded data removed]",
      "text/plain": [
       "<Figure size 1000x500 with 1 Axes>"
      ]
     },
     "metadata": {},
     "output_type": "display_data"
    }
   ],
   "source": [
    "keyword_colors = [keyword_color_mapping[keyword] for keyword in df_video_year['keyword'].unique()]\n",
    "sns.set(style=\"whitegrid\")\n",
    "fig, ax = plt.subplots(figsize=(10, 5))\n",
    "sns.boxplot(data=df_video_year, x='keyword', y='comment_count', ax=ax, palette=keyword_colors)\n",
    "ax.set_yscale('log')\n",
    "ax.set_title(f'Distribution of Comment Count for Each Keyword in {year}')\n",
    "ax.set_xlabel('Keyword')\n",
    "ax.set_ylabel('Number of Comment (Log Scale)')\n",
    "\n",
    "plt.savefig(f'results/boxplot_comment_count_{year}.png')\n",
    "plt.show();"
   ]
  },
  {
   "cell_type": "markdown",
   "metadata": {},
   "source": [
    "### Duration distribution for each keyword"
   ]
  },
  {
   "cell_type": "code",
   "execution_count": 69,
   "metadata": {},
   "outputs": [
    {
     "data": {
      "text/plain": [
       "dtype('int64')"
      ]
     },
     "execution_count": 69,
     "metadata": {},
     "output_type": "execute_result"
    }
   ],
   "source": [
    "df_video['duration'] = df_video['duration'].apply(convert_duration)\n",
    "df_video['duration'].dtypes"
   ]
  },
  {
   "cell_type": "code",
   "execution_count": 70,
   "metadata": {},
   "outputs": [],
   "source": [
    "df_video.to_parquet('preprocessed_data/video_info_details_raw.parquet') # save the data"
   ]
  },
  {
   "cell_type": "code",
   "execution_count": 71,
   "metadata": {},
   "outputs": [
    {
     "data": {
      "text/html": [
       "<div>\n",
       "<style scoped>\n",
       "    .dataframe tbody tr th:only-of-type {\n",
       "        vertical-align: middle;\n",
       "    }\n",
       "\n",
       "    .dataframe tbody tr th {\n",
       "        vertical-align: top;\n",
       "    }\n",
       "\n",
       "    .dataframe thead th {\n",
       "        text-align: right;\n",
       "    }\n",
       "</style>\n",
       "<table border=\"1\" class=\"dataframe\">\n",
       "  <thead>\n",
       "    <tr style=\"text-align: right;\">\n",
       "      <th></th>\n",
       "      <th>keyword</th>\n",
       "      <th>publish_year</th>\n",
       "      <th>duration</th>\n",
       "    </tr>\n",
       "  </thead>\n",
       "  <tbody>\n",
       "    <tr>\n",
       "      <th>0</th>\n",
       "      <td>bodypositive|bodypositivity</td>\n",
       "      <td>2013</td>\n",
       "      <td>130.000000</td>\n",
       "    </tr>\n",
       "    <tr>\n",
       "      <th>1</th>\n",
       "      <td>bodypositive|bodypositivity</td>\n",
       "      <td>2014</td>\n",
       "      <td>289.900000</td>\n",
       "    </tr>\n",
       "    <tr>\n",
       "      <th>2</th>\n",
       "      <td>bodypositive|bodypositivity</td>\n",
       "      <td>2015</td>\n",
       "      <td>459.937500</td>\n",
       "    </tr>\n",
       "    <tr>\n",
       "      <th>3</th>\n",
       "      <td>bodypositive|bodypositivity</td>\n",
       "      <td>2016</td>\n",
       "      <td>491.895833</td>\n",
       "    </tr>\n",
       "    <tr>\n",
       "      <th>4</th>\n",
       "      <td>bodypositive|bodypositivity</td>\n",
       "      <td>2017</td>\n",
       "      <td>345.844444</td>\n",
       "    </tr>\n",
       "    <tr>\n",
       "      <th>5</th>\n",
       "      <td>bodypositive|bodypositivity</td>\n",
       "      <td>2018</td>\n",
       "      <td>643.873684</td>\n",
       "    </tr>\n",
       "    <tr>\n",
       "      <th>6</th>\n",
       "      <td>bodypositive|bodypositivity</td>\n",
       "      <td>2019</td>\n",
       "      <td>479.930000</td>\n",
       "    </tr>\n",
       "    <tr>\n",
       "      <th>7</th>\n",
       "      <td>bodypositive|bodypositivity</td>\n",
       "      <td>2020</td>\n",
       "      <td>770.730000</td>\n",
       "    </tr>\n",
       "    <tr>\n",
       "      <th>8</th>\n",
       "      <td>bodypositive|bodypositivity</td>\n",
       "      <td>2021</td>\n",
       "      <td>223.920000</td>\n",
       "    </tr>\n",
       "    <tr>\n",
       "      <th>9</th>\n",
       "      <td>bodypositive|bodypositivity</td>\n",
       "      <td>2022</td>\n",
       "      <td>34.510000</td>\n",
       "    </tr>\n",
       "    <tr>\n",
       "      <th>10</th>\n",
       "      <td>bodypositive|bodypositivity</td>\n",
       "      <td>2023</td>\n",
       "      <td>105.171053</td>\n",
       "    </tr>\n",
       "    <tr>\n",
       "      <th>11</th>\n",
       "      <td>fitspo|fitspiration</td>\n",
       "      <td>2013</td>\n",
       "      <td>241.604167</td>\n",
       "    </tr>\n",
       "    <tr>\n",
       "      <th>12</th>\n",
       "      <td>fitspo|fitspiration</td>\n",
       "      <td>2014</td>\n",
       "      <td>201.934783</td>\n",
       "    </tr>\n",
       "    <tr>\n",
       "      <th>13</th>\n",
       "      <td>fitspo|fitspiration</td>\n",
       "      <td>2015</td>\n",
       "      <td>333.350000</td>\n",
       "    </tr>\n",
       "    <tr>\n",
       "      <th>14</th>\n",
       "      <td>fitspo|fitspiration</td>\n",
       "      <td>2016</td>\n",
       "      <td>127.160000</td>\n",
       "    </tr>\n",
       "    <tr>\n",
       "      <th>15</th>\n",
       "      <td>fitspo|fitspiration</td>\n",
       "      <td>2017</td>\n",
       "      <td>199.450000</td>\n",
       "    </tr>\n",
       "    <tr>\n",
       "      <th>16</th>\n",
       "      <td>fitspo|fitspiration</td>\n",
       "      <td>2018</td>\n",
       "      <td>357.090000</td>\n",
       "    </tr>\n",
       "    <tr>\n",
       "      <th>17</th>\n",
       "      <td>fitspo|fitspiration</td>\n",
       "      <td>2019</td>\n",
       "      <td>429.980000</td>\n",
       "    </tr>\n",
       "    <tr>\n",
       "      <th>18</th>\n",
       "      <td>fitspo|fitspiration</td>\n",
       "      <td>2020</td>\n",
       "      <td>403.750000</td>\n",
       "    </tr>\n",
       "    <tr>\n",
       "      <th>19</th>\n",
       "      <td>fitspo|fitspiration</td>\n",
       "      <td>2021</td>\n",
       "      <td>607.610000</td>\n",
       "    </tr>\n",
       "    <tr>\n",
       "      <th>20</th>\n",
       "      <td>fitspo|fitspiration</td>\n",
       "      <td>2022</td>\n",
       "      <td>94.580000</td>\n",
       "    </tr>\n",
       "    <tr>\n",
       "      <th>21</th>\n",
       "      <td>fitspo|fitspiration</td>\n",
       "      <td>2023</td>\n",
       "      <td>345.263158</td>\n",
       "    </tr>\n",
       "  </tbody>\n",
       "</table>\n",
       "</div>"
      ],
      "text/plain": [
       "                        keyword publish_year    duration\n",
       "0   bodypositive|bodypositivity         2013  130.000000\n",
       "1   bodypositive|bodypositivity         2014  289.900000\n",
       "2   bodypositive|bodypositivity         2015  459.937500\n",
       "3   bodypositive|bodypositivity         2016  491.895833\n",
       "4   bodypositive|bodypositivity         2017  345.844444\n",
       "5   bodypositive|bodypositivity         2018  643.873684\n",
       "6   bodypositive|bodypositivity         2019  479.930000\n",
       "7   bodypositive|bodypositivity         2020  770.730000\n",
       "8   bodypositive|bodypositivity         2021  223.920000\n",
       "9   bodypositive|bodypositivity         2022   34.510000\n",
       "10  bodypositive|bodypositivity         2023  105.171053\n",
       "11          fitspo|fitspiration         2013  241.604167\n",
       "12          fitspo|fitspiration         2014  201.934783\n",
       "13          fitspo|fitspiration         2015  333.350000\n",
       "14          fitspo|fitspiration         2016  127.160000\n",
       "15          fitspo|fitspiration         2017  199.450000\n",
       "16          fitspo|fitspiration         2018  357.090000\n",
       "17          fitspo|fitspiration         2019  429.980000\n",
       "18          fitspo|fitspiration         2020  403.750000\n",
       "19          fitspo|fitspiration         2021  607.610000\n",
       "20          fitspo|fitspiration         2022   94.580000\n",
       "21          fitspo|fitspiration         2023  345.263158"
      ]
     },
     "execution_count": 71,
     "metadata": {},
     "output_type": "execute_result"
    }
   ],
   "source": [
    "df_duration = df_video.groupby(['keyword','publish_year'])[['duration']].mean().reset_index()\n",
    "df_duration"
   ]
  },
  {
   "cell_type": "code",
   "execution_count": 72,
   "metadata": {},
   "outputs": [
    {
     "data": {
      "text/html": [
       "<div>\n",
       "<style scoped>\n",
       "    .dataframe tbody tr th:only-of-type {\n",
       "        vertical-align: middle;\n",
       "    }\n",
       "\n",
       "    .dataframe tbody tr th {\n",
       "        vertical-align: top;\n",
       "    }\n",
       "\n",
       "    .dataframe thead th {\n",
       "        text-align: right;\n",
       "    }\n",
       "</style>\n",
       "<table border=\"1\" class=\"dataframe\">\n",
       "  <thead>\n",
       "    <tr style=\"text-align: right;\">\n",
       "      <th></th>\n",
       "      <th>view_count</th>\n",
       "      <th>like_count</th>\n",
       "      <th>comment_count</th>\n",
       "      <th>duration</th>\n",
       "    </tr>\n",
       "    <tr>\n",
       "      <th>keyword</th>\n",
       "      <th></th>\n",
       "      <th></th>\n",
       "      <th></th>\n",
       "      <th></th>\n",
       "    </tr>\n",
       "  </thead>\n",
       "  <tbody>\n",
       "    <tr>\n",
       "      <th>bodypositive|bodypositivity</th>\n",
       "      <td>1.033954e+06</td>\n",
       "      <td>35396.28592</td>\n",
       "      <td>907.376552</td>\n",
       "      <td>389.034574</td>\n",
       "    </tr>\n",
       "    <tr>\n",
       "      <th>fitspo|fitspiration</th>\n",
       "      <td>1.805819e+05</td>\n",
       "      <td>3278.70098</td>\n",
       "      <td>77.813765</td>\n",
       "      <td>303.109091</td>\n",
       "    </tr>\n",
       "  </tbody>\n",
       "</table>\n",
       "</div>"
      ],
      "text/plain": [
       "                               view_count   like_count  comment_count  \\\n",
       "keyword                                                                 \n",
       "bodypositive|bodypositivity  1.033954e+06  35396.28592     907.376552   \n",
       "fitspo|fitspiration          1.805819e+05   3278.70098      77.813765   \n",
       "\n",
       "                               duration  \n",
       "keyword                                  \n",
       "bodypositive|bodypositivity  389.034574  \n",
       "fitspo|fitspiration          303.109091  "
      ]
     },
     "execution_count": 72,
     "metadata": {},
     "output_type": "execute_result"
    }
   ],
   "source": [
    "df_video.groupby(['keyword'])[['view_count', 'like_count', 'comment_count', 'duration']].mean().to_csv('results/avg_per_keyword.csv')\n",
    "df_video.groupby(['keyword'])[['view_count', 'like_count', 'comment_count', 'duration']].mean()"
   ]
  },
  {
   "cell_type": "code",
   "execution_count": 73,
   "metadata": {},
   "outputs": [
    {
     "data": {
      "text/html": [
       "<div>\n",
       "<style scoped>\n",
       "    .dataframe tbody tr th:only-of-type {\n",
       "        vertical-align: middle;\n",
       "    }\n",
       "\n",
       "    .dataframe tbody tr th {\n",
       "        vertical-align: top;\n",
       "    }\n",
       "\n",
       "    .dataframe thead th {\n",
       "        text-align: right;\n",
       "    }\n",
       "</style>\n",
       "<table border=\"1\" class=\"dataframe\">\n",
       "  <thead>\n",
       "    <tr style=\"text-align: right;\">\n",
       "      <th></th>\n",
       "      <th>duration</th>\n",
       "    </tr>\n",
       "    <tr>\n",
       "      <th>publish_year</th>\n",
       "      <th></th>\n",
       "    </tr>\n",
       "  </thead>\n",
       "  <tbody>\n",
       "    <tr>\n",
       "      <th>2013</th>\n",
       "      <td>185.802083</td>\n",
       "    </tr>\n",
       "    <tr>\n",
       "      <th>2014</th>\n",
       "      <td>245.917391</td>\n",
       "    </tr>\n",
       "    <tr>\n",
       "      <th>2015</th>\n",
       "      <td>396.643750</td>\n",
       "    </tr>\n",
       "    <tr>\n",
       "      <th>2016</th>\n",
       "      <td>309.527917</td>\n",
       "    </tr>\n",
       "    <tr>\n",
       "      <th>2017</th>\n",
       "      <td>272.647222</td>\n",
       "    </tr>\n",
       "    <tr>\n",
       "      <th>2018</th>\n",
       "      <td>500.481842</td>\n",
       "    </tr>\n",
       "    <tr>\n",
       "      <th>2019</th>\n",
       "      <td>454.955000</td>\n",
       "    </tr>\n",
       "    <tr>\n",
       "      <th>2020</th>\n",
       "      <td>587.240000</td>\n",
       "    </tr>\n",
       "    <tr>\n",
       "      <th>2021</th>\n",
       "      <td>415.765000</td>\n",
       "    </tr>\n",
       "    <tr>\n",
       "      <th>2022</th>\n",
       "      <td>64.545000</td>\n",
       "    </tr>\n",
       "    <tr>\n",
       "      <th>2023</th>\n",
       "      <td>225.217105</td>\n",
       "    </tr>\n",
       "  </tbody>\n",
       "</table>\n",
       "</div>"
      ],
      "text/plain": [
       "                duration\n",
       "publish_year            \n",
       "2013          185.802083\n",
       "2014          245.917391\n",
       "2015          396.643750\n",
       "2016          309.527917\n",
       "2017          272.647222\n",
       "2018          500.481842\n",
       "2019          454.955000\n",
       "2020          587.240000\n",
       "2021          415.765000\n",
       "2022           64.545000\n",
       "2023          225.217105"
      ]
     },
     "execution_count": 73,
     "metadata": {},
     "output_type": "execute_result"
    }
   ],
   "source": [
    "df_duration.groupby(['publish_year'])[['duration']].mean().to_csv('results/avg_duration_per_year.csv')\n",
    "df_duration.groupby(['publish_year'])[['duration']].mean()"
   ]
  },
  {
   "cell_type": "code",
   "execution_count": 80,
   "metadata": {},
   "outputs": [
    {
     "data": {
      "image/png": "[encoded data removed]",
      "text/plain": [
       "<Figure size 1000x500 with 1 Axes>"
      ]
     },
     "metadata": {},
     "output_type": "display_data"
    }
   ],
   "source": [
    "# bar plot of the duration of videos of each keyword per year\n",
    "keyword_colors = [keyword_color_mapping[keyword] for keyword in df_duration['keyword'].unique()]\n",
    "sns.set(style=\"whitegrid\")\n",
    "fig, ax = plt.subplots(figsize=(10, 5))\n",
    "sns.barplot(x='publish_year', y='duration', hue='keyword', data=df_duration, ax=ax, palette=keyword_colors, linewidth=2)\n",
    "ax.set_xticklabels(df_duration['publish_year'])\n",
    "ax.legend(title='Keyword', loc='upper left')\n",
    "ax.set_title('Average Duration of Videos Published in Each Year')\n",
    "ax.set_xlabel('Video Publish Year')\n",
    "ax.set_ylabel('Average Video Duration (Seconds)')\n",
    "plt.savefig('results/avg_duration_per_year.png')"
   ]
  },
  {
   "cell_type": "code",
   "execution_count": 76,
   "metadata": {},
   "outputs": [
    {
     "data": {
      "text/plain": [
       "(200, 18)"
      ]
     },
     "execution_count": 76,
     "metadata": {},
     "output_type": "execute_result"
    }
   ],
   "source": [
    "year = 2020\n",
    "\n",
    "# filter the data for the year\n",
    "df_video_year = df_video[df_video['publish_year'] == str(year)]\n",
    "df_video_year.shape"
   ]
  },
  {
   "cell_type": "code",
   "execution_count": 79,
   "metadata": {},
   "outputs": [
    {
     "data": {
      "image/png": "[encoded data removed]",
      "text/plain": [
       "<Figure size 1000x500 with 1 Axes>"
      ]
     },
     "metadata": {},
     "output_type": "display_data"
    }
   ],
   "source": [
    "keyword_colors = [keyword_color_mapping[keyword] for keyword in df_video_year['keyword'].unique()]\n",
    "sns.set(style=\"whitegrid\")\n",
    "fig, ax = plt.subplots(figsize=(10, 5))\n",
    "sns.boxplot(data=df_video_year, x='keyword', y='duration', ax=ax, palette=keyword_colors)\n",
    "ax.set_yscale('log')\n",
    "ax.set_title(f'Distribution of Video Duration for Each Keyword in {year}')\n",
    "ax.set_xlabel('Keyword')\n",
    "ax.set_ylabel('Average Video Duration (Seconds, Log Scale)')\n",
    "\n",
    "plt.savefig(f'results/boxplot_video_duration_{year}.png')\n",
    "plt.show();"
   ]
  },
  {
   "cell_type": "markdown",
   "metadata": {},
   "source": [
    "### Category ID of each keyword"
   ]
  },
  {
   "cell_type": "code",
   "execution_count": 83,
   "metadata": {},
   "outputs": [
    {
     "data": {
      "text/html": [
       "<div>\n",
       "<style scoped>\n",
       "    .dataframe tbody tr th:only-of-type {\n",
       "        vertical-align: middle;\n",
       "    }\n",
       "\n",
       "    .dataframe tbody tr th {\n",
       "        vertical-align: top;\n",
       "    }\n",
       "\n",
       "    .dataframe thead th {\n",
       "        text-align: right;\n",
       "    }\n",
       "</style>\n",
       "<table border=\"1\" class=\"dataframe\">\n",
       "  <thead>\n",
       "    <tr style=\"text-align: right;\">\n",
       "      <th></th>\n",
       "      <th>id</th>\n",
       "      <th>title</th>\n",
       "    </tr>\n",
       "  </thead>\n",
       "  <tbody>\n",
       "    <tr>\n",
       "      <th>0</th>\n",
       "      <td>1</td>\n",
       "      <td>Film &amp; Animation</td>\n",
       "    </tr>\n",
       "    <tr>\n",
       "      <th>1</th>\n",
       "      <td>2</td>\n",
       "      <td>Autos &amp; Vehicles</td>\n",
       "    </tr>\n",
       "    <tr>\n",
       "      <th>2</th>\n",
       "      <td>10</td>\n",
       "      <td>Music</td>\n",
       "    </tr>\n",
       "    <tr>\n",
       "      <th>3</th>\n",
       "      <td>15</td>\n",
       "      <td>Pets &amp; Animals</td>\n",
       "    </tr>\n",
       "    <tr>\n",
       "      <th>4</th>\n",
       "      <td>17</td>\n",
       "      <td>Sports</td>\n",
       "    </tr>\n",
       "  </tbody>\n",
       "</table>\n",
       "</div>"
      ],
      "text/plain": [
       "   id             title\n",
       "0   1  Film & Animation\n",
       "1   2  Autos & Vehicles\n",
       "2  10             Music\n",
       "3  15    Pets & Animals\n",
       "4  17            Sports"
      ]
     },
     "execution_count": 83,
     "metadata": {},
     "output_type": "execute_result"
    }
   ],
   "source": [
    "df_category = get_category_mapping()\n",
    "df_category.head()"
   ]
  },
  {
   "cell_type": "code",
   "execution_count": 84,
   "metadata": {},
   "outputs": [
    {
     "data": {
      "text/html": [
       "<div>\n",
       "<style scoped>\n",
       "    .dataframe tbody tr th:only-of-type {\n",
       "        vertical-align: middle;\n",
       "    }\n",
       "\n",
       "    .dataframe tbody tr th {\n",
       "        vertical-align: top;\n",
       "    }\n",
       "\n",
       "    .dataframe thead th {\n",
       "        text-align: right;\n",
       "    }\n",
       "</style>\n",
       "<table border=\"1\" class=\"dataframe\">\n",
       "  <thead>\n",
       "    <tr style=\"text-align: right;\">\n",
       "      <th></th>\n",
       "      <th>video_id</th>\n",
       "      <th>published_at</th>\n",
       "      <th>channel_id</th>\n",
       "      <th>thumbnail_url</th>\n",
       "      <th>keyword</th>\n",
       "      <th>published_after</th>\n",
       "      <th>published_before</th>\n",
       "      <th>description</th>\n",
       "      <th>tags</th>\n",
       "      <th>category_id</th>\n",
       "      <th>title</th>\n",
       "      <th>channel_title</th>\n",
       "      <th>view_count</th>\n",
       "      <th>like_count</th>\n",
       "      <th>comment_count</th>\n",
       "      <th>duration</th>\n",
       "      <th>definition</th>\n",
       "      <th>publish_year</th>\n",
       "      <th>category_name</th>\n",
       "    </tr>\n",
       "  </thead>\n",
       "  <tbody>\n",
       "    <tr>\n",
       "      <th>0</th>\n",
       "      <td>nhRzkGpdQdk</td>\n",
       "      <td>2013-03-12T17:09:50Z</td>\n",
       "      <td>UC3uDucFPe-E0I6CfxtHWZ6w</td>\n",
       "      <td>https://i.ytimg.com/vi/nhRzkGpdQdk/hqdefault.jpg</td>\n",
       "      <td>fitspo|fitspiration</td>\n",
       "      <td>2013-01-01T00:00:00Z</td>\n",
       "      <td>2013-06-30T23:59:59Z</td>\n",
       "      <td>Follow me on Facebook:\\nhttp://www.facebook.co...</td>\n",
       "      <td>[Bodybuilding Motivation, ShaQx, Female Fitnes...</td>\n",
       "      <td>17</td>\n",
       "      <td>Female Fitness Motivation - Success is a Journey</td>\n",
       "      <td>ShaQx</td>\n",
       "      <td>9762915.0</td>\n",
       "      <td>41921.0</td>\n",
       "      <td>1920.0</td>\n",
       "      <td>192</td>\n",
       "      <td>hd</td>\n",
       "      <td>2013</td>\n",
       "      <td>Sports</td>\n",
       "    </tr>\n",
       "    <tr>\n",
       "      <th>1</th>\n",
       "      <td>sIu61gS8Qag</td>\n",
       "      <td>2013-02-15T22:11:00Z</td>\n",
       "      <td>UC87WGiHFdgzRf6XRpbIcg4Q</td>\n",
       "      <td>https://i.ytimg.com/vi/sIu61gS8Qag/hqdefault.jpg</td>\n",
       "      <td>fitspo|fitspiration</td>\n",
       "      <td>2013-01-01T00:00:00Z</td>\n",
       "      <td>2013-06-30T23:59:59Z</td>\n",
       "      <td>This is a video I made for me to stay motivate...</td>\n",
       "      <td>[fit, fitblr, fitspiration video, abs, motivat...</td>\n",
       "      <td>22</td>\n",
       "      <td>Fitspiration Video</td>\n",
       "      <td>Samora Lewis</td>\n",
       "      <td>211373.0</td>\n",
       "      <td>935.0</td>\n",
       "      <td>50.0</td>\n",
       "      <td>250</td>\n",
       "      <td>hd</td>\n",
       "      <td>2013</td>\n",
       "      <td>People &amp; Blogs</td>\n",
       "    </tr>\n",
       "    <tr>\n",
       "      <th>2</th>\n",
       "      <td>Y4UyIC36VqQ</td>\n",
       "      <td>2013-02-11T03:44:28Z</td>\n",
       "      <td>UC9aRTMF4m6aBzkyhchwsWHQ</td>\n",
       "      <td>https://i.ytimg.com/vi/Y4UyIC36VqQ/hqdefault.jpg</td>\n",
       "      <td>fitspo|fitspiration</td>\n",
       "      <td>2013-01-01T00:00:00Z</td>\n",
       "      <td>2013-06-30T23:59:59Z</td>\n",
       "      <td>Find us at http://alluring-beauties.tumblr.com...</td>\n",
       "      <td>[girls, weightloss, fitspo, thinsp, skinny, sl...</td>\n",
       "      <td>22</td>\n",
       "      <td>Real Girl Weight loss, Before and After. Fitspo</td>\n",
       "      <td>AlluringBeautiesPage</td>\n",
       "      <td>108440.0</td>\n",
       "      <td>263.0</td>\n",
       "      <td>35.0</td>\n",
       "      <td>113</td>\n",
       "      <td>hd</td>\n",
       "      <td>2013</td>\n",
       "      <td>People &amp; Blogs</td>\n",
       "    </tr>\n",
       "    <tr>\n",
       "      <th>3</th>\n",
       "      <td>HQtyF3YmYpw</td>\n",
       "      <td>2013-05-07T03:33:06Z</td>\n",
       "      <td>UCLIeO7AnzCpod8GiZsxyx5w</td>\n",
       "      <td>https://i.ytimg.com/vi/HQtyF3YmYpw/hqdefault.jpg</td>\n",
       "      <td>fitspo|fitspiration</td>\n",
       "      <td>2013-01-01T00:00:00Z</td>\n",
       "      <td>2013-06-30T23:59:59Z</td>\n",
       "      <td>just some weight lose/toning inspiration for y...</td>\n",
       "      <td>[thinspo, curves, curvy, sexy, curvespo, lose ...</td>\n",
       "      <td>26</td>\n",
       "      <td>Fitspo for girls with curves 2013 (curvespo)</td>\n",
       "      <td>LovesIt50</td>\n",
       "      <td>63819.0</td>\n",
       "      <td>83.0</td>\n",
       "      <td>3.0</td>\n",
       "      <td>253</td>\n",
       "      <td>sd</td>\n",
       "      <td>2013</td>\n",
       "      <td>Howto &amp; Style</td>\n",
       "    </tr>\n",
       "    <tr>\n",
       "      <th>4</th>\n",
       "      <td>XXrvhTVlm0s</td>\n",
       "      <td>2013-03-16T18:17:29Z</td>\n",
       "      <td>UCgsNAoSMqikDqYOUXyasaLg</td>\n",
       "      <td>https://i.ytimg.com/vi/XXrvhTVlm0s/hqdefault.jpg</td>\n",
       "      <td>fitspo|fitspiration</td>\n",
       "      <td>2013-01-01T00:00:00Z</td>\n",
       "      <td>2013-06-30T23:59:59Z</td>\n",
       "      <td>hope you like this Fitspo Video :D \\nwant to l...</td>\n",
       "      <td>[fitspiration, fitspo, fitness, thin, thinspir...</td>\n",
       "      <td>22</td>\n",
       "      <td>FITSPIRATION - Fitnessmodel</td>\n",
       "      <td>fitandthin</td>\n",
       "      <td>30885.0</td>\n",
       "      <td>130.0</td>\n",
       "      <td>6.0</td>\n",
       "      <td>129</td>\n",
       "      <td>sd</td>\n",
       "      <td>2013</td>\n",
       "      <td>People &amp; Blogs</td>\n",
       "    </tr>\n",
       "  </tbody>\n",
       "</table>\n",
       "</div>"
      ],
      "text/plain": [
       "      video_id          published_at                channel_id  \\\n",
       "0  nhRzkGpdQdk  2013-03-12T17:09:50Z  UC3uDucFPe-E0I6CfxtHWZ6w   \n",
       "1  sIu61gS8Qag  2013-02-15T22:11:00Z  UC87WGiHFdgzRf6XRpbIcg4Q   \n",
       "2  Y4UyIC36VqQ  2013-02-11T03:44:28Z  UC9aRTMF4m6aBzkyhchwsWHQ   \n",
       "3  HQtyF3YmYpw  2013-05-07T03:33:06Z  UCLIeO7AnzCpod8GiZsxyx5w   \n",
       "4  XXrvhTVlm0s  2013-03-16T18:17:29Z  UCgsNAoSMqikDqYOUXyasaLg   \n",
       "\n",
       "                                      thumbnail_url              keyword  \\\n",
       "0  https://i.ytimg.com/vi/nhRzkGpdQdk/hqdefault.jpg  fitspo|fitspiration   \n",
       "1  https://i.ytimg.com/vi/sIu61gS8Qag/hqdefault.jpg  fitspo|fitspiration   \n",
       "2  https://i.ytimg.com/vi/Y4UyIC36VqQ/hqdefault.jpg  fitspo|fitspiration   \n",
       "3  https://i.ytimg.com/vi/HQtyF3YmYpw/hqdefault.jpg  fitspo|fitspiration   \n",
       "4  https://i.ytimg.com/vi/XXrvhTVlm0s/hqdefault.jpg  fitspo|fitspiration   \n",
       "\n",
       "        published_after      published_before  \\\n",
       "0  2013-01-01T00:00:00Z  2013-06-30T23:59:59Z   \n",
       "1  2013-01-01T00:00:00Z  2013-06-30T23:59:59Z   \n",
       "2  2013-01-01T00:00:00Z  2013-06-30T23:59:59Z   \n",
       "3  2013-01-01T00:00:00Z  2013-06-30T23:59:59Z   \n",
       "4  2013-01-01T00:00:00Z  2013-06-30T23:59:59Z   \n",
       "\n",
       "                                         description  \\\n",
       "0  Follow me on Facebook:\\nhttp://www.facebook.co...   \n",
       "1  This is a video I made for me to stay motivate...   \n",
       "2  Find us at http://alluring-beauties.tumblr.com...   \n",
       "3  just some weight lose/toning inspiration for y...   \n",
       "4  hope you like this Fitspo Video :D \\nwant to l...   \n",
       "\n",
       "                                                tags category_id  \\\n",
       "0  [Bodybuilding Motivation, ShaQx, Female Fitnes...          17   \n",
       "1  [fit, fitblr, fitspiration video, abs, motivat...          22   \n",
       "2  [girls, weightloss, fitspo, thinsp, skinny, sl...          22   \n",
       "3  [thinspo, curves, curvy, sexy, curvespo, lose ...          26   \n",
       "4  [fitspiration, fitspo, fitness, thin, thinspir...          22   \n",
       "\n",
       "                                              title         channel_title  \\\n",
       "0  Female Fitness Motivation - Success is a Journey                 ShaQx   \n",
       "1                                Fitspiration Video          Samora Lewis   \n",
       "2   Real Girl Weight loss, Before and After. Fitspo  AlluringBeautiesPage   \n",
       "3      Fitspo for girls with curves 2013 (curvespo)             LovesIt50   \n",
       "4                       FITSPIRATION - Fitnessmodel            fitandthin   \n",
       "\n",
       "   view_count  like_count  comment_count  duration definition publish_year  \\\n",
       "0   9762915.0     41921.0         1920.0       192         hd         2013   \n",
       "1    211373.0       935.0           50.0       250         hd         2013   \n",
       "2    108440.0       263.0           35.0       113         hd         2013   \n",
       "3     63819.0        83.0            3.0       253         sd         2013   \n",
       "4     30885.0       130.0            6.0       129         sd         2013   \n",
       "\n",
       "    category_name  \n",
       "0          Sports  \n",
       "1  People & Blogs  \n",
       "2  People & Blogs  \n",
       "3   Howto & Style  \n",
       "4  People & Blogs  "
      ]
     },
     "execution_count": 84,
     "metadata": {},
     "output_type": "execute_result"
    }
   ],
   "source": [
    "# map category_id to category_name\n",
    "df_video['category_name'] = df_video['category_id'].apply(lambda x: df_category[df_category['id'] == int(x)]['title'].values[0])\n",
    "df_video.head()"
   ]
  },
  {
   "cell_type": "code",
   "execution_count": 85,
   "metadata": {},
   "outputs": [],
   "source": [
    "df_video.to_parquet('preprocessed_data/video_info_details_raw.parquet') # save the data"
   ]
  },
  {
   "cell_type": "code",
   "execution_count": 117,
   "metadata": {},
   "outputs": [
    {
     "data": {
      "text/html": [
       "<div>\n",
       "<style scoped>\n",
       "    .dataframe tbody tr th:only-of-type {\n",
       "        vertical-align: middle;\n",
       "    }\n",
       "\n",
       "    .dataframe tbody tr th {\n",
       "        vertical-align: top;\n",
       "    }\n",
       "\n",
       "    .dataframe thead th {\n",
       "        text-align: right;\n",
       "    }\n",
       "</style>\n",
       "<table border=\"1\" class=\"dataframe\">\n",
       "  <thead>\n",
       "    <tr style=\"text-align: right;\">\n",
       "      <th></th>\n",
       "      <th>keyword</th>\n",
       "      <th>category_name</th>\n",
       "      <th>count</th>\n",
       "      <th>total_count</th>\n",
       "      <th>percentage</th>\n",
       "    </tr>\n",
       "  </thead>\n",
       "  <tbody>\n",
       "    <tr>\n",
       "      <th>9</th>\n",
       "      <td>bodypositive|bodypositivity</td>\n",
       "      <td>People &amp; Blogs</td>\n",
       "      <td>410</td>\n",
       "      <td>752</td>\n",
       "      <td>54.521277</td>\n",
       "    </tr>\n",
       "    <tr>\n",
       "      <th>5</th>\n",
       "      <td>bodypositive|bodypositivity</td>\n",
       "      <td>Howto &amp; Style</td>\n",
       "      <td>110</td>\n",
       "      <td>752</td>\n",
       "      <td>14.627660</td>\n",
       "    </tr>\n",
       "    <tr>\n",
       "      <th>2</th>\n",
       "      <td>bodypositive|bodypositivity</td>\n",
       "      <td>Entertainment</td>\n",
       "      <td>99</td>\n",
       "      <td>752</td>\n",
       "      <td>13.164894</td>\n",
       "    </tr>\n",
       "    <tr>\n",
       "      <th>6</th>\n",
       "      <td>bodypositive|bodypositivity</td>\n",
       "      <td>Music</td>\n",
       "      <td>33</td>\n",
       "      <td>752</td>\n",
       "      <td>4.388298</td>\n",
       "    </tr>\n",
       "    <tr>\n",
       "      <th>8</th>\n",
       "      <td>bodypositive|bodypositivity</td>\n",
       "      <td>Nonprofits &amp; Activism</td>\n",
       "      <td>20</td>\n",
       "      <td>752</td>\n",
       "      <td>2.659574</td>\n",
       "    </tr>\n",
       "    <tr>\n",
       "      <th>3</th>\n",
       "      <td>bodypositive|bodypositivity</td>\n",
       "      <td>Film &amp; Animation</td>\n",
       "      <td>18</td>\n",
       "      <td>752</td>\n",
       "      <td>2.393617</td>\n",
       "    </tr>\n",
       "    <tr>\n",
       "      <th>1</th>\n",
       "      <td>bodypositive|bodypositivity</td>\n",
       "      <td>Education</td>\n",
       "      <td>15</td>\n",
       "      <td>752</td>\n",
       "      <td>1.994681</td>\n",
       "    </tr>\n",
       "    <tr>\n",
       "      <th>10</th>\n",
       "      <td>bodypositive|bodypositivity</td>\n",
       "      <td>Sports</td>\n",
       "      <td>15</td>\n",
       "      <td>752</td>\n",
       "      <td>1.994681</td>\n",
       "    </tr>\n",
       "    <tr>\n",
       "      <th>4</th>\n",
       "      <td>bodypositive|bodypositivity</td>\n",
       "      <td>Gaming</td>\n",
       "      <td>12</td>\n",
       "      <td>752</td>\n",
       "      <td>1.595745</td>\n",
       "    </tr>\n",
       "    <tr>\n",
       "      <th>0</th>\n",
       "      <td>bodypositive|bodypositivity</td>\n",
       "      <td>Comedy</td>\n",
       "      <td>10</td>\n",
       "      <td>752</td>\n",
       "      <td>1.329787</td>\n",
       "    </tr>\n",
       "    <tr>\n",
       "      <th>7</th>\n",
       "      <td>bodypositive|bodypositivity</td>\n",
       "      <td>News &amp; Politics</td>\n",
       "      <td>7</td>\n",
       "      <td>752</td>\n",
       "      <td>0.930851</td>\n",
       "    </tr>\n",
       "    <tr>\n",
       "      <th>11</th>\n",
       "      <td>bodypositive|bodypositivity</td>\n",
       "      <td>Travel &amp; Events</td>\n",
       "      <td>3</td>\n",
       "      <td>752</td>\n",
       "      <td>0.398936</td>\n",
       "    </tr>\n",
       "    <tr>\n",
       "      <th>22</th>\n",
       "      <td>fitspo|fitspiration</td>\n",
       "      <td>People &amp; Blogs</td>\n",
       "      <td>488</td>\n",
       "      <td>1045</td>\n",
       "      <td>46.698565</td>\n",
       "    </tr>\n",
       "    <tr>\n",
       "      <th>25</th>\n",
       "      <td>fitspo|fitspiration</td>\n",
       "      <td>Sports</td>\n",
       "      <td>250</td>\n",
       "      <td>1045</td>\n",
       "      <td>23.923445</td>\n",
       "    </tr>\n",
       "    <tr>\n",
       "      <th>15</th>\n",
       "      <td>fitspo|fitspiration</td>\n",
       "      <td>Entertainment</td>\n",
       "      <td>105</td>\n",
       "      <td>1045</td>\n",
       "      <td>10.047847</td>\n",
       "    </tr>\n",
       "    <tr>\n",
       "      <th>18</th>\n",
       "      <td>fitspo|fitspiration</td>\n",
       "      <td>Howto &amp; Style</td>\n",
       "      <td>82</td>\n",
       "      <td>1045</td>\n",
       "      <td>7.846890</td>\n",
       "    </tr>\n",
       "    <tr>\n",
       "      <th>20</th>\n",
       "      <td>fitspo|fitspiration</td>\n",
       "      <td>News &amp; Politics</td>\n",
       "      <td>27</td>\n",
       "      <td>1045</td>\n",
       "      <td>2.583732</td>\n",
       "    </tr>\n",
       "    <tr>\n",
       "      <th>16</th>\n",
       "      <td>fitspo|fitspiration</td>\n",
       "      <td>Film &amp; Animation</td>\n",
       "      <td>23</td>\n",
       "      <td>1045</td>\n",
       "      <td>2.200957</td>\n",
       "    </tr>\n",
       "    <tr>\n",
       "      <th>19</th>\n",
       "      <td>fitspo|fitspiration</td>\n",
       "      <td>Music</td>\n",
       "      <td>23</td>\n",
       "      <td>1045</td>\n",
       "      <td>2.200957</td>\n",
       "    </tr>\n",
       "    <tr>\n",
       "      <th>14</th>\n",
       "      <td>fitspo|fitspiration</td>\n",
       "      <td>Education</td>\n",
       "      <td>19</td>\n",
       "      <td>1045</td>\n",
       "      <td>1.818182</td>\n",
       "    </tr>\n",
       "    <tr>\n",
       "      <th>13</th>\n",
       "      <td>fitspo|fitspiration</td>\n",
       "      <td>Comedy</td>\n",
       "      <td>11</td>\n",
       "      <td>1045</td>\n",
       "      <td>1.052632</td>\n",
       "    </tr>\n",
       "    <tr>\n",
       "      <th>26</th>\n",
       "      <td>fitspo|fitspiration</td>\n",
       "      <td>Travel &amp; Events</td>\n",
       "      <td>6</td>\n",
       "      <td>1045</td>\n",
       "      <td>0.574163</td>\n",
       "    </tr>\n",
       "    <tr>\n",
       "      <th>21</th>\n",
       "      <td>fitspo|fitspiration</td>\n",
       "      <td>Nonprofits &amp; Activism</td>\n",
       "      <td>3</td>\n",
       "      <td>1045</td>\n",
       "      <td>0.287081</td>\n",
       "    </tr>\n",
       "    <tr>\n",
       "      <th>23</th>\n",
       "      <td>fitspo|fitspiration</td>\n",
       "      <td>Pets &amp; Animals</td>\n",
       "      <td>3</td>\n",
       "      <td>1045</td>\n",
       "      <td>0.287081</td>\n",
       "    </tr>\n",
       "    <tr>\n",
       "      <th>12</th>\n",
       "      <td>fitspo|fitspiration</td>\n",
       "      <td>Autos &amp; Vehicles</td>\n",
       "      <td>2</td>\n",
       "      <td>1045</td>\n",
       "      <td>0.191388</td>\n",
       "    </tr>\n",
       "    <tr>\n",
       "      <th>17</th>\n",
       "      <td>fitspo|fitspiration</td>\n",
       "      <td>Gaming</td>\n",
       "      <td>2</td>\n",
       "      <td>1045</td>\n",
       "      <td>0.191388</td>\n",
       "    </tr>\n",
       "    <tr>\n",
       "      <th>24</th>\n",
       "      <td>fitspo|fitspiration</td>\n",
       "      <td>Science &amp; Technology</td>\n",
       "      <td>1</td>\n",
       "      <td>1045</td>\n",
       "      <td>0.095694</td>\n",
       "    </tr>\n",
       "  </tbody>\n",
       "</table>\n",
       "</div>"
      ],
      "text/plain": [
       "                        keyword          category_name  count  total_count  \\\n",
       "9   bodypositive|bodypositivity         People & Blogs    410          752   \n",
       "5   bodypositive|bodypositivity          Howto & Style    110          752   \n",
       "2   bodypositive|bodypositivity          Entertainment     99          752   \n",
       "6   bodypositive|bodypositivity                  Music     33          752   \n",
       "8   bodypositive|bodypositivity  Nonprofits & Activism     20          752   \n",
       "3   bodypositive|bodypositivity       Film & Animation     18          752   \n",
       "1   bodypositive|bodypositivity              Education     15          752   \n",
       "10  bodypositive|bodypositivity                 Sports     15          752   \n",
       "4   bodypositive|bodypositivity                 Gaming     12          752   \n",
       "0   bodypositive|bodypositivity                 Comedy     10          752   \n",
       "7   bodypositive|bodypositivity        News & Politics      7          752   \n",
       "11  bodypositive|bodypositivity        Travel & Events      3          752   \n",
       "22          fitspo|fitspiration         People & Blogs    488         1045   \n",
       "25          fitspo|fitspiration                 Sports    250         1045   \n",
       "15          fitspo|fitspiration          Entertainment    105         1045   \n",
       "18          fitspo|fitspiration          Howto & Style     82         1045   \n",
       "20          fitspo|fitspiration        News & Politics     27         1045   \n",
       "16          fitspo|fitspiration       Film & Animation     23         1045   \n",
       "19          fitspo|fitspiration                  Music     23         1045   \n",
       "14          fitspo|fitspiration              Education     19         1045   \n",
       "13          fitspo|fitspiration                 Comedy     11         1045   \n",
       "26          fitspo|fitspiration        Travel & Events      6         1045   \n",
       "21          fitspo|fitspiration  Nonprofits & Activism      3         1045   \n",
       "23          fitspo|fitspiration         Pets & Animals      3         1045   \n",
       "12          fitspo|fitspiration       Autos & Vehicles      2         1045   \n",
       "17          fitspo|fitspiration                 Gaming      2         1045   \n",
       "24          fitspo|fitspiration   Science & Technology      1         1045   \n",
       "\n",
       "    percentage  \n",
       "9    54.521277  \n",
       "5    14.627660  \n",
       "2    13.164894  \n",
       "6     4.388298  \n",
       "8     2.659574  \n",
       "3     2.393617  \n",
       "1     1.994681  \n",
       "10    1.994681  \n",
       "4     1.595745  \n",
       "0     1.329787  \n",
       "7     0.930851  \n",
       "11    0.398936  \n",
       "22   46.698565  \n",
       "25   23.923445  \n",
       "15   10.047847  \n",
       "18    7.846890  \n",
       "20    2.583732  \n",
       "16    2.200957  \n",
       "19    2.200957  \n",
       "14    1.818182  \n",
       "13    1.052632  \n",
       "26    0.574163  \n",
       "21    0.287081  \n",
       "23    0.287081  \n",
       "12    0.191388  \n",
       "17    0.191388  \n",
       "24    0.095694  "
      ]
     },
     "execution_count": 117,
     "metadata": {},
     "output_type": "execute_result"
    }
   ],
   "source": [
    "df_category_percent = df_video.groupby(['keyword', 'category_name']).size().reset_index(name='count')\n",
    "df_category_percent['total_count'] = df_category_percent.groupby('keyword')['count'].transform('sum')\n",
    "df_category_percent['percentage'] = df_category_percent['count'] / df_category_percent['total_count'] * 100\n",
    "df_category_percent.sort_values(by=['keyword', 'percentage'], ascending=[True, False], inplace=True)\n",
    "df_category_percent.to_csv('results/category_percent_per_keyword.csv')\n",
    "df_category_percent"
   ]
  },
  {
   "cell_type": "code",
   "execution_count": 118,
   "metadata": {},
   "outputs": [
    {
     "data": {
      "text/html": [
       "<div>\n",
       "<style scoped>\n",
       "    .dataframe tbody tr th:only-of-type {\n",
       "        vertical-align: middle;\n",
       "    }\n",
       "\n",
       "    .dataframe tbody tr th {\n",
       "        vertical-align: top;\n",
       "    }\n",
       "\n",
       "    .dataframe thead th {\n",
       "        text-align: right;\n",
       "    }\n",
       "</style>\n",
       "<table border=\"1\" class=\"dataframe\">\n",
       "  <thead>\n",
       "    <tr style=\"text-align: right;\">\n",
       "      <th></th>\n",
       "      <th>count</th>\n",
       "    </tr>\n",
       "    <tr>\n",
       "      <th>category_name</th>\n",
       "      <th></th>\n",
       "    </tr>\n",
       "  </thead>\n",
       "  <tbody>\n",
       "    <tr>\n",
       "      <th>People &amp; Blogs</th>\n",
       "      <td>898</td>\n",
       "    </tr>\n",
       "    <tr>\n",
       "      <th>Sports</th>\n",
       "      <td>265</td>\n",
       "    </tr>\n",
       "    <tr>\n",
       "      <th>Entertainment</th>\n",
       "      <td>204</td>\n",
       "    </tr>\n",
       "    <tr>\n",
       "      <th>Howto &amp; Style</th>\n",
       "      <td>192</td>\n",
       "    </tr>\n",
       "    <tr>\n",
       "      <th>Music</th>\n",
       "      <td>56</td>\n",
       "    </tr>\n",
       "    <tr>\n",
       "      <th>Film &amp; Animation</th>\n",
       "      <td>41</td>\n",
       "    </tr>\n",
       "    <tr>\n",
       "      <th>Education</th>\n",
       "      <td>34</td>\n",
       "    </tr>\n",
       "    <tr>\n",
       "      <th>News &amp; Politics</th>\n",
       "      <td>34</td>\n",
       "    </tr>\n",
       "    <tr>\n",
       "      <th>Nonprofits &amp; Activism</th>\n",
       "      <td>23</td>\n",
       "    </tr>\n",
       "    <tr>\n",
       "      <th>Comedy</th>\n",
       "      <td>21</td>\n",
       "    </tr>\n",
       "    <tr>\n",
       "      <th>Gaming</th>\n",
       "      <td>14</td>\n",
       "    </tr>\n",
       "    <tr>\n",
       "      <th>Travel &amp; Events</th>\n",
       "      <td>9</td>\n",
       "    </tr>\n",
       "    <tr>\n",
       "      <th>Pets &amp; Animals</th>\n",
       "      <td>3</td>\n",
       "    </tr>\n",
       "    <tr>\n",
       "      <th>Autos &amp; Vehicles</th>\n",
       "      <td>2</td>\n",
       "    </tr>\n",
       "    <tr>\n",
       "      <th>Science &amp; Technology</th>\n",
       "      <td>1</td>\n",
       "    </tr>\n",
       "  </tbody>\n",
       "</table>\n",
       "</div>"
      ],
      "text/plain": [
       "                       count\n",
       "category_name               \n",
       "People & Blogs           898\n",
       "Sports                   265\n",
       "Entertainment            204\n",
       "Howto & Style            192\n",
       "Music                     56\n",
       "Film & Animation          41\n",
       "Education                 34\n",
       "News & Politics           34\n",
       "Nonprofits & Activism     23\n",
       "Comedy                    21\n",
       "Gaming                    14\n",
       "Travel & Events            9\n",
       "Pets & Animals             3\n",
       "Autos & Vehicles           2\n",
       "Science & Technology       1"
      ]
     },
     "execution_count": 118,
     "metadata": {},
     "output_type": "execute_result"
    }
   ],
   "source": [
    "category_count = df_category_percent.groupby(['category_name'])[['count']].sum().sort_values(by='count', ascending=False)\n",
    "category_count.to_csv('results/category_count.csv')\n",
    "category_count"
   ]
  },
  {
   "cell_type": "code",
   "execution_count": 119,
   "metadata": {},
   "outputs": [
    {
     "data": {
      "text/plain": [
       "15"
      ]
     },
     "execution_count": 119,
     "metadata": {},
     "output_type": "execute_result"
    }
   ],
   "source": [
    "len(category_count)"
   ]
  },
  {
   "cell_type": "code",
   "execution_count": 106,
   "metadata": {},
   "outputs": [
    {
     "data": {
      "text/plain": [
       "Index(['People & Blogs', 'Sports', 'Entertainment', 'Howto & Style', 'Music',\n",
       "       'Film & Animation', 'Education', 'News & Politics'],\n",
       "      dtype='object', name='category_name')"
      ]
     },
     "execution_count": 106,
     "metadata": {},
     "output_type": "execute_result"
    }
   ],
   "source": [
    "# top 8 categories\n",
    "category_count.index[:8]"
   ]
  },
  {
   "cell_type": "code",
   "execution_count": 126,
   "metadata": {},
   "outputs": [
    {
     "data": {
      "text/html": [
       "<div>\n",
       "<style scoped>\n",
       "    .dataframe tbody tr th:only-of-type {\n",
       "        vertical-align: middle;\n",
       "    }\n",
       "\n",
       "    .dataframe tbody tr th {\n",
       "        vertical-align: top;\n",
       "    }\n",
       "\n",
       "    .dataframe thead th {\n",
       "        text-align: right;\n",
       "    }\n",
       "</style>\n",
       "<table border=\"1\" class=\"dataframe\">\n",
       "  <thead>\n",
       "    <tr style=\"text-align: right;\">\n",
       "      <th></th>\n",
       "      <th>keyword</th>\n",
       "      <th>category_name</th>\n",
       "      <th>count</th>\n",
       "      <th>total_count</th>\n",
       "      <th>percentage</th>\n",
       "    </tr>\n",
       "  </thead>\n",
       "  <tbody>\n",
       "    <tr>\n",
       "      <th>0</th>\n",
       "      <td>bodypositive|bodypositivity</td>\n",
       "      <td>People &amp; Blogs</td>\n",
       "      <td>410</td>\n",
       "      <td>752</td>\n",
       "      <td>54.521277</td>\n",
       "    </tr>\n",
       "    <tr>\n",
       "      <th>1</th>\n",
       "      <td>fitspo|fitspiration</td>\n",
       "      <td>People &amp; Blogs</td>\n",
       "      <td>488</td>\n",
       "      <td>1045</td>\n",
       "      <td>46.698565</td>\n",
       "    </tr>\n",
       "    <tr>\n",
       "      <th>2</th>\n",
       "      <td>bodypositive|bodypositivity</td>\n",
       "      <td>Sports</td>\n",
       "      <td>15</td>\n",
       "      <td>752</td>\n",
       "      <td>1.994681</td>\n",
       "    </tr>\n",
       "    <tr>\n",
       "      <th>3</th>\n",
       "      <td>fitspo|fitspiration</td>\n",
       "      <td>Sports</td>\n",
       "      <td>250</td>\n",
       "      <td>1045</td>\n",
       "      <td>23.923445</td>\n",
       "    </tr>\n",
       "    <tr>\n",
       "      <th>4</th>\n",
       "      <td>bodypositive|bodypositivity</td>\n",
       "      <td>Entertainment</td>\n",
       "      <td>99</td>\n",
       "      <td>752</td>\n",
       "      <td>13.164894</td>\n",
       "    </tr>\n",
       "    <tr>\n",
       "      <th>5</th>\n",
       "      <td>fitspo|fitspiration</td>\n",
       "      <td>Entertainment</td>\n",
       "      <td>105</td>\n",
       "      <td>1045</td>\n",
       "      <td>10.047847</td>\n",
       "    </tr>\n",
       "    <tr>\n",
       "      <th>6</th>\n",
       "      <td>fitspo|fitspiration</td>\n",
       "      <td>Howto &amp; Style</td>\n",
       "      <td>82</td>\n",
       "      <td>1045</td>\n",
       "      <td>7.846890</td>\n",
       "    </tr>\n",
       "    <tr>\n",
       "      <th>7</th>\n",
       "      <td>bodypositive|bodypositivity</td>\n",
       "      <td>Howto &amp; Style</td>\n",
       "      <td>110</td>\n",
       "      <td>752</td>\n",
       "      <td>14.627660</td>\n",
       "    </tr>\n",
       "    <tr>\n",
       "      <th>8</th>\n",
       "      <td>fitspo|fitspiration</td>\n",
       "      <td>Music</td>\n",
       "      <td>23</td>\n",
       "      <td>1045</td>\n",
       "      <td>2.200957</td>\n",
       "    </tr>\n",
       "    <tr>\n",
       "      <th>9</th>\n",
       "      <td>bodypositive|bodypositivity</td>\n",
       "      <td>Music</td>\n",
       "      <td>33</td>\n",
       "      <td>752</td>\n",
       "      <td>4.388298</td>\n",
       "    </tr>\n",
       "    <tr>\n",
       "      <th>10</th>\n",
       "      <td>bodypositive|bodypositivity</td>\n",
       "      <td>Film &amp; Animation</td>\n",
       "      <td>18</td>\n",
       "      <td>752</td>\n",
       "      <td>2.393617</td>\n",
       "    </tr>\n",
       "    <tr>\n",
       "      <th>11</th>\n",
       "      <td>fitspo|fitspiration</td>\n",
       "      <td>Film &amp; Animation</td>\n",
       "      <td>23</td>\n",
       "      <td>1045</td>\n",
       "      <td>2.200957</td>\n",
       "    </tr>\n",
       "    <tr>\n",
       "      <th>12</th>\n",
       "      <td>bodypositive|bodypositivity</td>\n",
       "      <td>Education</td>\n",
       "      <td>15</td>\n",
       "      <td>752</td>\n",
       "      <td>1.994681</td>\n",
       "    </tr>\n",
       "    <tr>\n",
       "      <th>13</th>\n",
       "      <td>fitspo|fitspiration</td>\n",
       "      <td>Education</td>\n",
       "      <td>19</td>\n",
       "      <td>1045</td>\n",
       "      <td>1.818182</td>\n",
       "    </tr>\n",
       "    <tr>\n",
       "      <th>14</th>\n",
       "      <td>bodypositive|bodypositivity</td>\n",
       "      <td>News &amp; Politics</td>\n",
       "      <td>7</td>\n",
       "      <td>752</td>\n",
       "      <td>0.930851</td>\n",
       "    </tr>\n",
       "    <tr>\n",
       "      <th>15</th>\n",
       "      <td>fitspo|fitspiration</td>\n",
       "      <td>News &amp; Politics</td>\n",
       "      <td>27</td>\n",
       "      <td>1045</td>\n",
       "      <td>2.583732</td>\n",
       "    </tr>\n",
       "  </tbody>\n",
       "</table>\n",
       "</div>"
      ],
      "text/plain": [
       "                        keyword     category_name  count  total_count  \\\n",
       "0   bodypositive|bodypositivity    People & Blogs    410          752   \n",
       "1           fitspo|fitspiration    People & Blogs    488         1045   \n",
       "2   bodypositive|bodypositivity            Sports     15          752   \n",
       "3           fitspo|fitspiration            Sports    250         1045   \n",
       "4   bodypositive|bodypositivity     Entertainment     99          752   \n",
       "5           fitspo|fitspiration     Entertainment    105         1045   \n",
       "6           fitspo|fitspiration     Howto & Style     82         1045   \n",
       "7   bodypositive|bodypositivity     Howto & Style    110          752   \n",
       "8           fitspo|fitspiration             Music     23         1045   \n",
       "9   bodypositive|bodypositivity             Music     33          752   \n",
       "10  bodypositive|bodypositivity  Film & Animation     18          752   \n",
       "11          fitspo|fitspiration  Film & Animation     23         1045   \n",
       "12  bodypositive|bodypositivity         Education     15          752   \n",
       "13          fitspo|fitspiration         Education     19         1045   \n",
       "14  bodypositive|bodypositivity   News & Politics      7          752   \n",
       "15          fitspo|fitspiration   News & Politics     27         1045   \n",
       "\n",
       "    percentage  \n",
       "0    54.521277  \n",
       "1    46.698565  \n",
       "2     1.994681  \n",
       "3    23.923445  \n",
       "4    13.164894  \n",
       "5    10.047847  \n",
       "6     7.846890  \n",
       "7    14.627660  \n",
       "8     2.200957  \n",
       "9     4.388298  \n",
       "10    2.393617  \n",
       "11    2.200957  \n",
       "12    1.994681  \n",
       "13    1.818182  \n",
       "14    0.930851  \n",
       "15    2.583732  "
      ]
     },
     "execution_count": 126,
     "metadata": {},
     "output_type": "execute_result"
    }
   ],
   "source": [
    "# Define the order of categories\n",
    "category_order = category_count.index[:8]\n",
    "\n",
    "df_category_percent['category_name'] = pd.Categorical(df_category_percent['category_name'], categories=category_order, ordered=True)\n",
    "df_category_percent.sort_values(by='category_name', inplace=True)\n",
    "df_category_percent.reset_index(drop=True, inplace=True)\n",
    "df_category_percent.dropna(axis=0, inplace=True)\n",
    "df_category_percent"
   ]
  },
  {
   "cell_type": "code",
   "execution_count": 128,
   "metadata": {},
   "outputs": [
    {
     "data": {
      "image/png": "[encoded data removed]",
      "text/plain": [
       "<Figure size 1000x500 with 1 Axes>"
      ]
     },
     "metadata": {},
     "output_type": "display_data"
    }
   ],
   "source": [
    "# histogram of the number of videos in each category for each keyword\n",
    "keyword_colors = [keyword_color_mapping[keyword] for keyword in df_category_percent['keyword'].unique()]\n",
    "sns.set(style=\"whitegrid\")\n",
    "fig, ax = plt.subplots(figsize=(10, 5))\n",
    "sns.barplot(x='category_name', y='percentage', hue='keyword', data=df_category_percent, ax=ax, palette=keyword_colors, linewidth=2)\n",
    "ax.set_xticklabels(ax.get_xticklabels(), rotation=45)\n",
    "ax.legend(title='Keyword', loc='upper right')\n",
    "ax.set_title('Percentage of Each Category for Each Topic')\n",
    "ax.set_xlabel('Video Category')\n",
    "ax.set_ylabel('Percentage (%)')\n",
    "plt.savefig('results/category_percent_per_keyword.png')"
   ]
  },
  {
   "cell_type": "markdown",
   "metadata": {},
   "source": [
    "## Detect language of each video"
   ]
  },
  {
   "cell_type": "code",
   "execution_count": null,
   "metadata": {},
   "outputs": [],
   "source": [
    "df_video = LanguageDetector().process_df(df_video)"
   ]
  },
  {
   "cell_type": "code",
   "execution_count": null,
   "metadata": {},
   "outputs": [
    {
     "data": {
      "text/plain": [
       "lang\n",
       "en    1210\n",
       "es     130\n",
       "it      63\n",
       "hi      63\n",
       "sw      41\n",
       "Name: count, dtype: int64"
      ]
     },
     "metadata": {},
     "output_type": "display_data"
    }
   ],
   "source": [
    "# top 5 languages\n",
    "df_video['lang'].value_counts()[:5]"
   ]
  },
  {
   "cell_type": "code",
   "execution_count": 131,
   "metadata": {},
   "outputs": [
    {
     "data": {
      "text/plain": [
       "(1797, 21)"
      ]
     },
     "execution_count": 131,
     "metadata": {},
     "output_type": "execute_result"
    }
   ],
   "source": [
    "pd.read_parquet('preprocessed_data/video_info_details.parquet').shape"
   ]
  },
  {
   "cell_type": "code",
   "execution_count": null,
   "metadata": {},
   "outputs": [
    {
     "data": {
      "text/plain": [
       "0.6733444629938787"
      ]
     },
     "metadata": {},
     "output_type": "display_data"
    }
   ],
   "source": [
    "# percentage of videos in English\n",
    "df_video[df_video['lang'] == 'en'].shape[0]/len(df_video)"
   ]
  },
  {
   "cell_type": "code",
   "execution_count": null,
   "metadata": {},
   "outputs": [
    {
     "data": {
      "text/plain": [
       "keyword\n",
       "fitspo|fitspiration            793\n",
       "bodypositive|bodypositivity    417\n",
       "dtype: int64"
      ]
     },
     "metadata": {},
     "output_type": "display_data"
    }
   ],
   "source": [
    "df_video[df_video['lang'] == 'en'].groupby('keyword').size().sort_values(ascending=False)"
   ]
  },
  {
   "cell_type": "code",
   "execution_count": null,
   "metadata": {},
   "outputs": [],
   "source": [
    "df_video.to_parquet('preprocessed_data/video_info_details.parquet') # save the data"
   ]
  }
 ],
 "metadata": {
  "kernelspec": {
   "display_name": "thesis",
   "language": "python",
   "name": "python3"
  },
  "language_info": {
   "codemirror_mode": {
    "name": "ipython",
    "version": 3
   },
   "file_extension": ".py",
   "mimetype": "text/x-python",
   "name": "python",
   "nbconvert_exporter": "python",
   "pygments_lexer": "ipython3",
   "version": "3.9.18"
  }
 },
 "nbformat": 4,
 "nbformat_minor": 2
}
